{
 "cells": [
  {
   "cell_type": "markdown",
   "metadata": {},
   "source": [
    "# Getting a list of movies\n",
    "------"
   ]
  },
  {
   "cell_type": "code",
   "execution_count": null,
   "metadata": {},
   "outputs": [],
   "source": [
    "import pandas as pd"
   ]
  },
  {
   "cell_type": "code",
   "execution_count": null,
   "metadata": {},
   "outputs": [],
   "source": [
    "# Adjust these file paths according to where you've saved the downloaded datasets\n",
    "basics_path = '/Users/shreyashgupta/Library/CloudStorage/OneDrive-UniversityofArkansas/MSEA/2nd Semester - MSEA/ECON 5823 - ECONOMIC ANALYTICS II/Project Code file/Data/IMDb title basics.tsv'\n",
    "ratings_path = '/Users/shreyashgupta/Library/CloudStorage/OneDrive-UniversityofArkansas/MSEA/2nd Semester - MSEA/ECON 5823 - ECONOMIC ANALYTICS II/Project Code file/Data/IMDb Title Ratings.tsv'"
   ]
  },
  {
   "cell_type": "code",
   "execution_count": null,
   "metadata": {},
   "outputs": [],
   "source": [
    "# Reading the basics file with the correct column names\n",
    "basics_df = pd.read_csv(\n",
    "    basics_path, \n",
    "    sep='\\t', \n",
    "    low_memory=False, \n",
    "    usecols=['tconst', 'titleType', 'primaryTitle', 'genres', 'isAdult', 'startYear', 'runtimeMinutes']\n",
    ")"
   ]
  },
  {
   "cell_type": "code",
   "execution_count": null,
   "metadata": {},
   "outputs": [],
   "source": [
    "# Filtering for movies\n",
    "movies_df = basics_df[basics_df['titleType'] == 'movie']"
   ]
  },
  {
   "cell_type": "code",
   "execution_count": null,
   "metadata": {},
   "outputs": [],
   "source": [
    "# Reading the ratings file\n",
    "ratings_df = pd.read_csv(ratings_path, sep='\\t', usecols=['tconst', 'averageRating', 'numVotes'])\n",
    "\n",
    "# Merging the datasets on 'tconst' to combine movie details with ratings\n",
    "merged_df = pd.merge(movies_df, ratings_df, on='tconst')\n",
    "\n",
    "# Selecting and renaming the columns\n",
    "IMDb_movies_df = merged_df[['primaryTitle', 'genres', 'averageRating', 'startYear', 'isAdult', 'runtimeMinutes', 'numVotes']]\n",
    "IMDb_movies_df.columns = ['Movie Name', 'Genre', 'Rating', 'Release Date', 'isAdult', 'Runtime Minutes', 'numVotes']"
   ]
  },
  {
   "cell_type": "code",
   "execution_count": null,
   "metadata": {},
   "outputs": [],
   "source": [
    "# Remove all values from Release date that are not numeric\n",
    "IMDb_movies_df = IMDb_movies_df[IMDb_movies_df['Release Date'].str.isnumeric()]"
   ]
  },
  {
   "cell_type": "code",
   "execution_count": null,
   "metadata": {},
   "outputs": [],
   "source": [
    "# set datatypes for IMDb_movies_df\n",
    "IMDb_movies_df['Release Date'] = IMDb_movies_df['Release Date'].astype('int')\n",
    "IMDb_movies_df['Runtime Minutes'] = IMDb_movies_df['Runtime Minutes'].apply(pd.to_numeric, errors='coerce')\n",
    "IMDb_movies_df['numVotes'] = IMDb_movies_df['numVotes'].apply(pd.to_numeric, errors='coerce')"
   ]
  },
  {
   "cell_type": "code",
   "execution_count": null,
   "metadata": {},
   "outputs": [],
   "source": [
    "# Filter IMDb_movies_df for Release date > 2015\n",
    "IMDb_movies_df = IMDb_movies_df[IMDb_movies_df['Release Date'] > 2015]\n",
    "\n",
    "# Remove all num values from Genre column\n",
    "IMDb_movies_df['Genre'] = IMDb_movies_df['Genre'].str.replace(r'\\d+', '')"
   ]
  },
  {
   "cell_type": "code",
   "execution_count": null,
   "metadata": {},
   "outputs": [],
   "source": [
    "# Remove all values from IMDb_movies_df columns that have a value /N\n",
    "IMDb_movies_df = IMDb_movies_df[IMDb_movies_df['Movie Name'] != '\\\\N']\n",
    "IMDb_movies_df = IMDb_movies_df[IMDb_movies_df['Rating'] != '\\\\N']\n",
    "IMDb_movies_df = IMDb_movies_df[IMDb_movies_df['isAdult'] != '\\\\N']\n",
    "IMDb_movies_df = IMDb_movies_df[IMDb_movies_df['Runtime Minutes'] != '\\\\N']\n",
    "IMDb_movies_df = IMDb_movies_df[IMDb_movies_df['numVotes'] != '\\\\N']\n",
    "IMDb_movies_df = IMDb_movies_df[IMDb_movies_df['Rating'] != '\\\\N']\n",
    "IMDb_movies_df = IMDb_movies_df[IMDb_movies_df['Genre'] != '\\\\N']"
   ]
  },
  {
   "cell_type": "code",
   "execution_count": null,
   "metadata": {},
   "outputs": [],
   "source": [
    "# Filter any movies with less than 10000 votes\n",
    "IMDb_movies_df = IMDb_movies_df[IMDb_movies_df['numVotes'] > 10000]"
   ]
  },
  {
   "cell_type": "code",
   "execution_count": null,
   "metadata": {},
   "outputs": [],
   "source": [
    "# Remove all rows where the Movie Name, Release Date and Runtime Minutes are duplicated\n",
    "IMDb_movies_df = IMDb_movies_df.drop_duplicates(subset=['Movie Name', 'Release Date', 'Runtime Minutes'])"
   ]
  },
  {
   "cell_type": "code",
   "execution_count": null,
   "metadata": {},
   "outputs": [],
   "source": [
    "# Reset index\n",
    "IMDb_movies_df.reset_index(drop=True, inplace=True)"
   ]
  },
  {
   "cell_type": "code",
   "execution_count": null,
   "metadata": {},
   "outputs": [],
   "source": [
    "IMDb_movies_df.shape"
   ]
  },
  {
   "cell_type": "markdown",
   "metadata": {},
   "source": [
    "### Dividing the Movies dataframe into 40 csv's"
   ]
  },
  {
   "cell_type": "code",
   "execution_count": null,
   "metadata": {},
   "outputs": [],
   "source": [
    "import os\n",
    "import math\n",
    "\n",
    "# Create the directory\n",
    "directory = '/Users/shreyashgupta/Library/CloudStorage/OneDrive-UniversityofArkansas/MSEA/2nd Semester - MSEA/ECON 5823 - ECONOMIC ANALYTICS II/Project Code file/IMDb_movie_review_sentiment_analysis/20_movies_datasets'\n",
    "if not os.path.exists(directory):\n",
    "    os.makedirs(directory)\n",
    "\n",
    "# Calculate the number of rows per chunk\n",
    "chunk_size = 2667 // 40\n",
    "remaining_rows = 2667 % 40\n",
    "\n",
    "# Split the dataframe into chunks and save as separate CSV files\n",
    "for i in range(40):\n",
    "    start = i * chunk_size\n",
    "    end = start + chunk_size\n",
    "    if i == 39:  # Last chunk\n",
    "        end += remaining_rows\n",
    "    df = IMDb_movies_df.iloc[start:end]\n",
    "    df.to_csv(f'{directory}/IMDb_movies_df_{i + 1}.csv', index=False)"
   ]
  },
  {
   "cell_type": "markdown",
   "metadata": {},
   "source": [
    "## Importing all Movies CSV\n",
    "-----"
   ]
  },
  {
   "cell_type": "code",
   "execution_count": null,
   "metadata": {},
   "outputs": [],
   "source": [
    "import pandas as pd\n",
    "import os\n",
    "\n",
    "# Define the directory where the CSV files are located\n",
    "directory = '/Users/shreyashgupta/Library/CloudStorage/OneDrive-UniversityofArkansas/MSEA/2nd Semester - MSEA/ECON 5823 - ECONOMIC ANALYTICS II/Project Code file/IMDb_movie_review_sentiment_analysis/20_movies_datasets'\n",
    "\n",
    "# Initialize an empty dictionary to store the dataframes\n",
    "dataframes = {}\n",
    "\n",
    "# Loop through all the files in the directory\n",
    "for filename in os.listdir(directory):\n",
    "    if filename.endswith('.csv'):\n",
    "        # Construct the full file path\n",
    "        file_path = os.path.join(directory, filename)\n",
    "        # Read the CSV file into a DataFrame\n",
    "        df = pd.read_csv(file_path)\n",
    "        # Remove the '.csv' extension and use the filename as the dictionary key\n",
    "        dataframe_name = filename.replace('.csv', '')\n",
    "        # Store the DataFrame in the dictionary\n",
    "        dataframes[dataframe_name] = df"
   ]
  },
  {
   "cell_type": "code",
   "execution_count": null,
   "metadata": {},
   "outputs": [],
   "source": [
    "# Defining all dataframes as variables\n",
    "for i in range(1, 41):\n",
    "    globals()[f\"imdb_movies_df_{i}\"] = dataframes[f\"imdb_movies_df_{i}\"]"
   ]
  },
  {
   "cell_type": "code",
   "execution_count": null,
   "metadata": {},
   "outputs": [],
   "source": [
    "imdb_movies_df_1.shape"
   ]
  },
  {
   "cell_type": "markdown",
   "metadata": {},
   "source": [
    "# URL Extracting script for all dataframes\n",
    "------"
   ]
  },
  {
   "cell_type": "code",
   "execution_count": null,
   "metadata": {},
   "outputs": [],
   "source": [
    "import time\n",
    "import pandas as pd\n",
    "from selenium import webdriver\n",
    "from selenium.webdriver.common.keys import Keys\n",
    "from selenium.webdriver.common.by import By\n",
    "from selenium.webdriver.chrome.service import Service\n",
    "from selenium.webdriver.chrome.options import Options\n",
    "\n",
    "# Setting up Selenium\n",
    "chrome_options = Options()\n",
    "chrome_options.add_argument(\"--headless\")  # Headless mode to run without opening browser window\n",
    "service = Service('path_to_chromedriver')  # Replace 'path_to_chromedriver' with the actual path\n",
    "# Setup WebDriver (example with Chrome)\n",
    "driver = webdriver.Chrome()\n",
    "\n",
    "# Function to get the URL of User Reviews for a movie\n",
    "def get_user_reviews_url(movie_name, release_date):\n",
    "    try:\n",
    "        # Open IMDb website\n",
    "        driver.get(\"https://www.imdb.com/\")\n",
    "        time.sleep(4)  # Wait for page to load\n",
    "\n",
    "        # Find search box and input movie name\n",
    "        search_box = driver.find_element(By.ID, \"suggestion-search\")\n",
    "        search_box.clear()\n",
    "        search_box.send_keys(movie_name)\n",
    "        search_box.send_keys(Keys.RETURN)\n",
    "        time.sleep(4)  # Wait for search results to load\n",
    "\n",
    "        # Find and click on the release year\n",
    "        release_year_element = driver.find_element(By.XPATH, f\"//*[contains(text(), '{release_date}')]\")\n",
    "        release_year_element.click()\n",
    "        time.sleep(4)  # Wait for page to load\n",
    "\n",
    "        # Find User Reviews button using the updated XPath selector\n",
    "        user_reviews_button = driver.find_element(By.XPATH, \"//a[@class='ipc-link ipc-link--baseAlt ipc-link--inherit-color' and @role='button' and contains(@href, '/reviews')]\")\n",
    "        user_reviews_url = user_reviews_button.get_attribute('href')\n",
    "        return user_reviews_url\n",
    "\n",
    "    except Exception as e:\n",
    "        print(f\"Error occurred for {movie_name}: {str(e)}\")\n",
    "        return None\n",
    "\n",
    "# Loop through each dataframe\n",
    "for i in range(1, 41):\n",
    "    # Dynamically generate dataframe name\n",
    "    df_name = f'imdb_movies_df_{i}'\n",
    "    # Assuming dataframes are stored in a dictionary or similar structure\n",
    "    df = globals()[df_name]  # Replace with the actual way to access the dataframe\n",
    "\n",
    "    # Iterate through each row in the DataFrame\n",
    "    for index, row in df.iterrows():\n",
    "        movie_name = row['Movie Name']\n",
    "        release_date = row['Release Date']\n",
    "\n",
    "        # Get User Reviews URL for the movie\n",
    "        user_reviews_url = get_user_reviews_url(movie_name, release_date)\n",
    "\n",
    "        # Update DataFrame with the URL\n",
    "        df.at[index, 'User Reviews URL'] = user_reviews_url\n",
    "\n",
    "    # Save the updated DataFrame\n",
    "    output_path = f'/Users/shreyashgupta/Library/CloudStorage/OneDrive-UniversityofArkansas/MSEA/2nd Semester - MSEA/ECON 5823 - ECONOMIC ANALYTICS II/Project Code file/IMDb_movie_review_sentiment_analysis/20_movies_datasets_with_URL/imdb_movies_df_{i}.csv'\n",
    "    df.to_csv(output_path, index=False)\n",
    "\n",
    "# Close the browser\n",
    "driver.quit()"
   ]
  },
  {
   "cell_type": "markdown",
   "metadata": {},
   "source": [
    "-----"
   ]
  },
  {
   "cell_type": "markdown",
   "metadata": {},
   "source": [
    "# Descriptive stats for all URL df\n",
    "------"
   ]
  },
  {
   "cell_type": "code",
   "execution_count": null,
   "metadata": {},
   "outputs": [],
   "source": [
    "import os\n",
    "import pandas as pd\n",
    "\n",
    "# import all 20 csv files from the folder location '/Users/shreyashgupta/Library/CloudStorage/OneDrive-UniversityofArkansas/MSEA/2nd Semester - MSEA/ECON 5823 - ECONOMIC ANALYTICS II/Project Code file/IMDb_movie_review_sentiment_analysis/20_movies_datasets_with_URL' The files are named imdb_movies_df_1_url.csv, imdb_movies_df_2_url.csv, imdb_movies_df_3_url.csv, and so on till 20. I want to concatenate all these files into one dataframe called all_URL_df\n",
    "\n",
    "# Define the directory where the CSV files are located\n",
    "directory = '/Users/shreyashgupta/Library/CloudStorage/OneDrive-UniversityofArkansas/MSEA/2nd Semester - MSEA/ECON 5823 - ECONOMIC ANALYTICS II/Project Code file/IMDb_movie_review_sentiment_analysis/20_movies_datasets_with_URL'\n",
    "\n",
    "# Initialize an empty list to store the dataframes\n",
    "dataframes = []\n",
    "\n",
    "# Loop through all the files in the directory\n",
    "for filename in os.listdir(directory):\n",
    "    if filename.endswith('.csv'):\n",
    "        # Construct the full file path\n",
    "        file_path = os.path.join(directory, filename)\n",
    "        # Read the CSV file into a DataFrame\n",
    "        df = pd.read_csv(file_path)\n",
    "        # Append the DataFrame to the list\n",
    "        dataframes.append(df)\n",
    "\n",
    "# Concatenate all the DataFrames in the list\n",
    "all_URL_df = pd.concat(dataframes, ignore_index=True)"
   ]
  },
  {
   "cell_type": "code",
   "execution_count": null,
   "metadata": {},
   "outputs": [],
   "source": [
    "# Display the final table\n",
    "all_URL_df.head()"
   ]
  },
  {
   "cell_type": "code",
   "execution_count": null,
   "metadata": {},
   "outputs": [],
   "source": [
    "all_URL_df.shape"
   ]
  },
  {
   "cell_type": "code",
   "execution_count": null,
   "metadata": {},
   "outputs": [],
   "source": [
    "# all null values in each column\n",
    "all_URL_df.isnull().sum()"
   ]
  },
  {
   "cell_type": "code",
   "execution_count": null,
   "metadata": {},
   "outputs": [],
   "source": [
    "# List all unique values in the Release Date in the all_URL_df\n",
    "all_URL_df['Release Date'].unique()"
   ]
  },
  {
   "cell_type": "code",
   "execution_count": null,
   "metadata": {},
   "outputs": [],
   "source": [
    "# List the number of duplicate values which have the same 'release_date', 'Runtime Minutes' and 'Movie Name' in the all_URL_df.\n",
    "duplicate_count = all_URL_df.duplicated(subset=['Release Date', 'Runtime Minutes', 'Movie Name', 'Rating']).sum()\n",
    "print(f\"Number of duplicate values: {duplicate_count}\")\n",
    "\n",
    "# Delete all duplicate rows where the 'release_date', 'Runtime Minutes' and 'Movie Name' in the all_URL_df are the same.\n",
    "all_URL_df = all_URL_df.drop_duplicates(subset=['Release Date', 'Runtime Minutes', 'Movie Name', 'Rating'])"
   ]
  },
  {
   "cell_type": "code",
   "execution_count": null,
   "metadata": {},
   "outputs": [],
   "source": [
    "# List the number of duplicate values which have the same 'release_date', 'Runtime Minutes' and 'Movie Name' in the all_URL_df.\n",
    "duplicate_count = all_URL_df.duplicated(subset=['Release Date', 'Runtime Minutes', 'Movie Name', 'Rating']).sum()\n",
    "print(f\"Number of duplicate values: {duplicate_count}\")"
   ]
  },
  {
   "cell_type": "code",
   "execution_count": null,
   "metadata": {},
   "outputs": [],
   "source": [
    "all_URL_df.shape"
   ]
  },
  {
   "cell_type": "code",
   "execution_count": null,
   "metadata": {},
   "outputs": [],
   "source": [
    "# all null values in each column\n",
    "all_URL_df.isnull().sum()"
   ]
  },
  {
   "cell_type": "code",
   "execution_count": null,
   "metadata": {},
   "outputs": [],
   "source": [
    "# remove all rows where the User Reviews URL is null\n",
    "all_URL_df = all_URL_df[all_URL_df['User Reviews URL'].notnull()]\n",
    "\n",
    "all_URL_df = all_URL_df[all_URL_df['Runtime Minutes'].notnull()]"
   ]
  },
  {
   "cell_type": "code",
   "execution_count": null,
   "metadata": {},
   "outputs": [],
   "source": [
    "# all null values in each column\n",
    "all_URL_df.isnull().sum()"
   ]
  },
  {
   "cell_type": "code",
   "execution_count": null,
   "metadata": {},
   "outputs": [],
   "source": [
    "# set datatypes for all_URL_df all columns\n",
    "all_URL_df['Movie Name'] = all_URL_df['Movie Name'].astype('string')\n",
    "all_URL_df['Genre'] = all_URL_df['Genre'].astype('string')\n",
    "all_URL_df['Rating'] = all_URL_df['Rating'].astype('float')\n",
    "all_URL_df['Release Date'] = all_URL_df['Release Date'].astype('int')\n",
    "all_URL_df['isAdult'] = all_URL_df['isAdult'].astype('int')\n",
    "all_URL_df['Runtime Minutes'] = all_URL_df['Runtime Minutes'].astype('float')\n",
    "all_URL_df['numVotes'] = all_URL_df['numVotes'].astype('float')\n",
    "all_URL_df['User Reviews URL'] = all_URL_df['User Reviews URL'].astype('string')"
   ]
  },
  {
   "cell_type": "code",
   "execution_count": null,
   "metadata": {},
   "outputs": [],
   "source": [
    "# export all_URL_df to a csv file\n",
    "all_URL_df.to_csv('/Users/shreyashgupta/Library/CloudStorage/OneDrive-UniversityofArkansas/MSEA/2nd Semester - MSEA/ECON 5823 - ECONOMIC ANALYTICS II/Project Code file/IMDb_movie_review_sentiment_analysis/all_URL_df.csv', index=False)"
   ]
  },
  {
   "cell_type": "code",
   "execution_count": null,
   "metadata": {},
   "outputs": [],
   "source": [
    "# Divide the all_URL_df into 40 chunks and name each dataframe as imdb_movies_df_i_url where i is the chunk number and export them as individual csv files to the folder location '/Users/shreyashgupta/Library/CloudStorage/OneDrive-UniversityofArkansas/MSEA/2nd Semester - MSEA/ECON 5823 - ECONOMIC ANALYTICS II/Project Code file/IMDb_movie_review_sentiment_analysis/20_movies_datasets_with_URL'\n",
    "chunk_size = 39\n",
    "remaining_rows = 1568 % 40\n",
    "\n",
    "for i in range(40):\n",
    "    start = i * chunk_size\n",
    "    end = start + chunk_size\n",
    "    if i == 39:  # Last chunk\n",
    "        end += remaining_rows\n",
    "    df = all_URL_df.iloc[start:end]\n",
    "    df.to_csv(f'{directory}/imdb_movies_df_{i + 1}_url.csv', index=False)"
   ]
  },
  {
   "cell_type": "markdown",
   "metadata": {},
   "source": [
    "-----"
   ]
  },
  {
   "cell_type": "markdown",
   "metadata": {},
   "source": [
    "## Loading all 40 URL csv as Dataframes"
   ]
  },
  {
   "cell_type": "code",
   "execution_count": null,
   "metadata": {},
   "outputs": [],
   "source": [
    "# load all 20 csv from the location '/Users/shreyashgupta/Library/CloudStorage/OneDrive-UniversityofArkansas/MSEA/2nd Semester - MSEA/ECON 5823 - ECONOMIC ANALYTICS II/Project Code file/IMDb_movie_review_sentiment_analysis/20_movies_datasets_with_URL' as individual dataframes with the same name as their file name but without the .csv extension\n",
    "\n",
    "import os\n",
    "import pandas as pd\n",
    "\n",
    "# Define the directory where the CSV files are located\n",
    "directory = '/Users/shreyashgupta/Library/CloudStorage/OneDrive-UniversityofArkansas/MSEA/2nd Semester - MSEA/ECON 5823 - ECONOMIC ANALYTICS II/Project Code file/IMDb_movie_review_sentiment_analysis/20_movies_datasets_with_URL'\n",
    "\n",
    "# Initialize an empty dictionary to store the dataframes\n",
    "dataframes = {}\n",
    "\n",
    "# Loop through all the files in the directory\n",
    "for filename in os.listdir(directory):\n",
    "    if filename.endswith('.csv'):\n",
    "        # Construct the full file path\n",
    "        file_path = os.path.join(directory, filename)\n",
    "        # Read the CSV file into a DataFrame\n",
    "        df = pd.read_csv(file_path)\n",
    "        # Remove the '.csv' extension and use the filename as the dictionary key\n",
    "        dataframe_name = filename.replace('.csv', '')\n",
    "        # Store the DataFrame in the dictionary\n",
    "        dataframes[dataframe_name] = df"
   ]
  },
  {
   "cell_type": "code",
   "execution_count": null,
   "metadata": {},
   "outputs": [],
   "source": [
    "# Defining all dataframes as variables\n",
    "for i in range(1, 41):\n",
    "    globals()[f\"imdb_movies_df_{i}_url\"] = dataframes[f\"imdb_movies_df_{i}_url\"]"
   ]
  },
  {
   "cell_type": "markdown",
   "metadata": {},
   "source": [
    "# Scrapping IMDb website code\n",
    "-----"
   ]
  },
  {
   "cell_type": "code",
   "execution_count": null,
   "metadata": {},
   "outputs": [],
   "source": [
    "import pandas as pd\n",
    "from selenium import webdriver\n",
    "from selenium.webdriver.common.by import By\n",
    "from selenium.webdriver.support.ui import WebDriverWait\n",
    "from selenium.webdriver.support import expected_conditions as EC\n",
    "from selenium.common.exceptions import TimeoutException, NoSuchElementException\n",
    "from bs4 import BeautifulSoup\n",
    "import time\n",
    "import re\n",
    "import traceback\n",
    "import os\n",
    "\n",
    "# Initialize WebDriver\n",
    "options = webdriver.ChromeOptions()\n",
    "options.add_argument(\"--start-maximized\")\n",
    "driver = webdriver.Chrome(options=options)\n",
    "wait = WebDriverWait(driver, 20)\n",
    "\n",
    "def scrape_reviews(url):\n",
    "    if not url:  # Check if the URL is None or empty and skip if true\n",
    "        return []\n",
    "    driver.get(url)\n",
    "    reviews_data = []\n",
    "    scraped_reviews = set()  # To track scraped reviews and avoid duplicates\n",
    "    \n",
    "    try:\n",
    "        while len(reviews_data) < 1000:  # Limit to 1000 reviews\n",
    "            wait.until(EC.visibility_of_element_located((By.CSS_SELECTOR, \"#main > section > div.lister > div.lister-list\")))\n",
    "            time.sleep(3)\n",
    "            soup = BeautifulSoup(driver.page_source, 'html.parser')\n",
    "            review_elements = soup.select(\"#main > section > div.lister > div.lister-list > div\")\n",
    "            if not review_elements:\n",
    "                break\n",
    "            for review_element in review_elements:\n",
    "                if len(reviews_data) >= 1000:  # Check if we have already collected 1000 reviews\n",
    "                    break\n",
    "                try:\n",
    "                    individual_rating_element = review_element.select_one(\".ipl-ratings-bar > span > span:nth-child(2)\")\n",
    "                    individual_rating = int(individual_rating_element.text.strip()) if individual_rating_element else None\n",
    "                    review_data = {\n",
    "                        'Review Date': review_element.select_one(\".review-date\").text.strip(),\n",
    "                        'Review Title': review_element.select_one(\".title\").text.strip(),\n",
    "                        'Username': review_element.select_one(\".display-name-link > a\").text.strip(),\n",
    "                        'Helpfulness': review_element.select_one(\".actions.text-muted\").text.strip(),\n",
    "                        'Helpful Votes': int(re.findall(r'(\\d+)', review_element.select_one(\".actions.text-muted\").text.strip())[0]),\n",
    "                        'Total Votes': int(re.findall(r'(\\d+)', review_element.select_one(\".actions.text-muted\").text.strip())[1]),\n",
    "                        'Individual Rating': individual_rating,\n",
    "                        'Review Text': review_element.select_one(\".text.show-more__control\").text.strip(),\n",
    "                        'Spoiler Warning': review_element.select_one(\".spoiler-warning\").text.strip() if review_element.select_one(\".spoiler-warning\") else \"\"\n",
    "                    }\n",
    "                    review_identifier = (review_data['Review Date'], review_data['Username'])\n",
    "                    if review_identifier not in scraped_reviews:\n",
    "                        reviews_data.append(review_data)\n",
    "                        scraped_reviews.add(review_identifier)\n",
    "                except Exception as e:\n",
    "                    print(f\"Error occurred while extracting review data: {e}\")\n",
    "                    traceback.print_exc()\n",
    "            try:\n",
    "                load_more_button = wait.until(EC.element_to_be_clickable((By.ID, \"load-more-trigger\")))\n",
    "                driver.execute_script(\"arguments[0].scrollIntoView(true);\", load_more_button)\n",
    "                load_more_button.click()\n",
    "                time.sleep(3)  # Adjust sleep time as necessary\n",
    "            except TimeoutException:\n",
    "                print(\"No more reviews to load.\")\n",
    "                break\n",
    "    except Exception as e:\n",
    "        print(f\"Error occurred: {e}\")\n",
    "        traceback.print_exc()\n",
    "    finally:\n",
    "        return reviews_data\n",
    "\n",
    "# Directory to save CSV files\n",
    "save_dir = '/Users/shreyashgupta/Library/CloudStorage/OneDrive-UniversityofArkansas/MSEA/2nd Semester - MSEA/ECON 5823 - ECONOMIC ANALYTICS II/Project Code file/IMDb_movie_review_sentiment_analysis/20_movies_datasets_with_Scrapped_data'\n",
    "\n",
    "# Main loop to iterate through dataframes\n",
    "for i in range(26, 41):  # Adjust range as necessary\n",
    "    df_name = f'imdb_movies_df_{i}_url'\n",
    "    df = eval(df_name)  # Dynamically get the dataframe\n",
    "    all_reviews = []\n",
    "    for index, row in df.iterrows():\n",
    "        if pd.notnull(row['User Reviews URL']):  # Check if the URL is not null\n",
    "            movie_reviews = scrape_reviews(row['User Reviews URL'])\n",
    "            for review in movie_reviews:\n",
    "                movie_data = row.to_dict()\n",
    "                movie_data['Rating'] = movie_data.get('Rating')  # Ensure the 'Rating' key is from the dataframe\n",
    "                review.update(movie_data)  # Add movie data to each review\n",
    "            all_reviews.extend(movie_reviews)\n",
    "    \n",
    "    # Convert to DataFrame\n",
    "    final_df = pd.DataFrame(all_reviews)\n",
    "    \n",
    "    # Save to CSV\n",
    "    csv_file_path = os.path.join(save_dir, f'all_scrapped_data_{i}.csv')\n",
    "    final_df.to_csv(csv_file_path, index=False)\n",
    "    print(f\"Dataframe {i} reviews saved to {csv_file_path}\")\n",
    "\n",
    "driver.quit()"
   ]
  },
  {
   "cell_type": "markdown",
   "metadata": {},
   "source": [
    "# Importing all 40 scrapped CSV's and concatenating them\n",
    "-----"
   ]
  },
  {
   "cell_type": "code",
   "execution_count": null,
   "metadata": {},
   "outputs": [],
   "source": [
    "# Import all 20 csv files from the folder location '/Users/shreyashgupta/Library/CloudStorage/OneDrive-UniversityofArkansas/MSEA/2nd Semester - MSEA/ECON 5823 - ECONOMIC ANALYTICS II/Project Code file/IMDb_movie_review_sentiment_analysis/20_movies_datasets_with_Scrapped_data' The files are named all_scrapped_data_1.csv, all_scrapped_data_2.csv, all_scrapped_data_3.csv, and so on till 20. I want to concatenate all these files into one dataframe called all_reviews_df. First merge the first 2 then clear the memory and then merge the next one with the just merged one and so on till all 20 are merged.\n",
    "\n",
    "import os\n",
    "import pandas as pd\n",
    "\n",
    "# Define the directory where the CSV files are located\n",
    "directory = '/Users/shreyashgupta/Library/CloudStorage/OneDrive-UniversityofArkansas/MSEA/2nd Semester - MSEA/ECON 5823 - ECONOMIC ANALYTICS II/Project Code file/IMDb_movie_review_sentiment_analysis/20_movies_datasets_with_Scrapped_data'\n",
    "\n",
    "# Initialize an empty list to store the dataframes\n",
    "dataframes = []\n",
    "\n",
    "# Loop through all the files in the directory\n",
    "for filename in os.listdir(directory):\n",
    "    if filename.endswith('.csv'):\n",
    "        # Construct the full file path\n",
    "        file_path = os.path.join(directory, filename)\n",
    "        # Read the CSV file into a DataFrame\n",
    "        df = pd.read_csv(file_path)\n",
    "        # Append the DataFrame to the list\n",
    "        dataframes.append(df)\n",
    "\n",
    "# Concatenate all the DataFrames in the list\n",
    "all_reviews_df = pd.concat(dataframes, ignore_index=True)"
   ]
  },
  {
   "cell_type": "code",
   "execution_count": null,
   "metadata": {},
   "outputs": [],
   "source": [
    "all_reviews_df.head(2)"
   ]
  },
  {
   "cell_type": "code",
   "execution_count": null,
   "metadata": {},
   "outputs": [],
   "source": [
    "all_reviews_df.shape"
   ]
  },
  {
   "cell_type": "code",
   "execution_count": null,
   "metadata": {},
   "outputs": [],
   "source": [
    "# Export all_reviews_df to a csv file\n",
    "all_reviews_df.to_csv('/Users/shreyashgupta/Library/CloudStorage/OneDrive-UniversityofArkansas/MSEA/2nd Semester - MSEA/ECON 5823 - ECONOMIC ANALYTICS II/Project Code file/IMDb_movie_review_sentiment_analysis/all_reviews_df.csv', index=False)"
   ]
  },
  {
   "cell_type": "markdown",
   "metadata": {},
   "source": [
    "# Importing the CSV and doing further addition of data and cleaning\n",
    "-----"
   ]
  },
  {
   "cell_type": "code",
   "execution_count": null,
   "metadata": {},
   "outputs": [],
   "source": [
    "import pandas as pd\n",
    "\n",
    "# Load the all_reviews_df\n",
    "all_reviews_df = pd.read_csv('/Users/shreyashgupta/Library/CloudStorage/OneDrive-UniversityofArkansas/MSEA/2nd Semester - MSEA/ECON 5823 - ECONOMIC ANALYTICS II/Project Code file/IMDb_movie_review_sentiment_analysis/all_reviews_df.csv')"
   ]
  },
  {
   "cell_type": "code",
   "execution_count": null,
   "metadata": {},
   "outputs": [],
   "source": [
    "# Number of all unique values in the Movie name column in all_reviews_df\n",
    "all_reviews_df['Movie Name'].nunique()"
   ]
  },
  {
   "cell_type": "code",
   "execution_count": null,
   "metadata": {},
   "outputs": [],
   "source": [
    "# How many times a value appears in the Movie name column in all_reviews_df\n",
    "repeats = all_reviews_df['Movie Name'].value_counts()\n",
    "\n",
    "repeats.head(25)"
   ]
  },
  {
   "cell_type": "markdown",
   "metadata": {},
   "source": [
    "# Cleaning the all_reviews_df dataset of movies less than 100 reviews\n",
    "--------"
   ]
  },
  {
   "cell_type": "code",
   "execution_count": null,
   "metadata": {},
   "outputs": [],
   "source": [
    "# count all movies in a new dataframe that have less than 1000 reviews\n",
    "less_than_100 = all_reviews_df['Movie Name'].value_counts()\n",
    "less_than_100 = less_than_100[less_than_100 < 100]\n",
    "less_than_100.shape"
   ]
  },
  {
   "cell_type": "code",
   "execution_count": null,
   "metadata": {},
   "outputs": [],
   "source": [
    "# List of all the movies that have less than 1000 reviews.\n",
    "less_than_100"
   ]
  },
  {
   "cell_type": "code",
   "execution_count": null,
   "metadata": {},
   "outputs": [],
   "source": [
    "less_than_100.shape"
   ]
  },
  {
   "cell_type": "code",
   "execution_count": null,
   "metadata": {},
   "outputs": [],
   "source": [
    "all_reviews_df.columns"
   ]
  },
  {
   "cell_type": "code",
   "execution_count": null,
   "metadata": {},
   "outputs": [],
   "source": [
    "# Drop all movies that have less than 1000 reviews from all_reviews_df\n",
    "all_reviews_df = all_reviews_df[~all_reviews_df['Movie Name'].isin(less_than_100.index)]"
   ]
  },
  {
   "cell_type": "code",
   "execution_count": null,
   "metadata": {},
   "outputs": [],
   "source": [
    "all_reviews_df.shape"
   ]
  },
  {
   "cell_type": "code",
   "execution_count": null,
   "metadata": {},
   "outputs": [],
   "source": [
    "all_reviews_df.tail(2)"
   ]
  },
  {
   "cell_type": "code",
   "execution_count": null,
   "metadata": {},
   "outputs": [],
   "source": [
    "# Drop the Helpfulness column from all_reviews_df\n",
    "all_reviews_df.drop('Helpfulness', axis=1, inplace=True)"
   ]
  },
  {
   "cell_type": "markdown",
   "metadata": {},
   "source": [
    "------"
   ]
  },
  {
   "cell_type": "markdown",
   "metadata": {},
   "source": [
    "## Adding additional columns from IMDb dataset"
   ]
  },
  {
   "cell_type": "code",
   "execution_count": null,
   "metadata": {},
   "outputs": [],
   "source": [
    "import pandas as pd\n",
    "\n",
    "# Define file paths for the datasets\n",
    "basics_path = '/Users/shreyashgupta/Library/CloudStorage/OneDrive-UniversityofArkansas/MSEA/2nd Semester - MSEA/ECON 5823 - ECONOMIC ANALYTICS II/Project Code file/Data/IMDb title basics.tsv'\n",
    "ratings_path = '/Users/shreyashgupta/Library/CloudStorage/OneDrive-UniversityofArkansas/MSEA/2nd Semester - MSEA/ECON 5823 - ECONOMIC ANALYTICS II/Project Code file/Data/IMDb Title Ratings.tsv'\n",
    "akas_path = '/Users/shreyashgupta/Library/CloudStorage/OneDrive-UniversityofArkansas/MSEA/2nd Semester - MSEA/ECON 5823 - ECONOMIC ANALYTICS II/Project Code file/Data/IMDb Title AKAs.tsv'\n",
    "\n",
    "# Load the datasets\n",
    "basics_df = pd.read_csv(basics_path, sep='\\t', usecols=['tconst', 'titleType', 'primaryTitle', 'genres', 'isAdult', 'startYear', 'runtimeMinutes'])\n",
    "ratings_df = pd.read_csv(ratings_path, sep='\\t', usecols=['tconst', 'averageRating', 'numVotes'])\n",
    "akas_df = pd.read_csv(akas_path, sep='\\t', usecols=['titleId', 'region', 'language', 'types'])\n",
    "\n",
    "# Rename 'titleId' to 'tconst' in akas_df for consistency\n",
    "akas_df.rename(columns={'titleId': 'tconst'}, inplace=True)\n",
    "\n",
    "# Merge the DataFrames on 'tconst'\n",
    "merged_df = basics_df.merge(ratings_df, on='tconst', how='left')\n",
    "merged_df = merged_df.merge(akas_df, on='tconst', how='left')\n",
    "\n",
    "# Filter the types column for movies only\n",
    "merged_df = merged_df[merged_df['titleType'] == 'movie']\n",
    "\n",
    "# Convert the 'startYear' column to numeric\n",
    "merged_df['startYear'] = pd.to_numeric(merged_df['startYear'], errors='coerce')\n",
    "\n",
    "# drop all null values in numVotes in merged_df\n",
    "merged_df = merged_df[merged_df['numVotes'] != '\\\\N']\n",
    "\n",
    "# Convert the 'numVotes' column to strings\n",
    "merged_df['numVotes'] = merged_df['numVotes'].astype(str)\n",
    "\n",
    "# Group the data by 'primaryTitle', 'numVotes', and 'startYear' and concatenate the values in the other columns\n",
    "merged_df = merged_df.groupby(['primaryTitle', 'numVotes', 'startYear']).agg({\n",
    "    'region': lambda x: ','.join(x.astype(str)),\n",
    "    'language': lambda x: ','.join(x.astype(str)),\n",
    "    'types': lambda x: ','.join(x.astype(str)),\n",
    "}).reset_index()\n",
    "\n",
    "# Rename primaryTitle to Movie Name\n",
    "merged_df.rename(columns={'primaryTitle': 'Movie Name'}, inplace=True)\n",
    "\n",
    "# Rename startYear to Release Date\n",
    "merged_df.rename(columns={'startYear': 'Release Date'}, inplace=True)"
   ]
  },
  {
   "cell_type": "code",
   "execution_count": null,
   "metadata": {},
   "outputs": [],
   "source": [
    "merged_df.shape"
   ]
  },
  {
   "cell_type": "code",
   "execution_count": null,
   "metadata": {},
   "outputs": [],
   "source": [
    "merged_df"
   ]
  },
  {
   "cell_type": "code",
   "execution_count": null,
   "metadata": {},
   "outputs": [],
   "source": [
    "# data types for movie_name, numVotes, Release Date in merged_df\n",
    "merged_df.loc[:, 'Movie Name'] = merged_df['Movie Name'].astype(str)\n",
    "merged_df.loc[:, 'numVotes'] = pd.to_numeric(merged_df['numVotes'], errors='coerce').astype(pd.Int64Dtype())\n",
    "merged_df.loc[:, 'Release Date'] = pd.to_numeric(merged_df['Release Date'], errors='coerce').astype(pd.Int64Dtype())"
   ]
  },
  {
   "cell_type": "code",
   "execution_count": null,
   "metadata": {},
   "outputs": [],
   "source": [
    "# set data types for movie_name, numVotes, Release Date in all_reviews_df\n",
    "all_reviews_df.loc[:, 'Movie Name'] = all_reviews_df['Movie Name'].astype(str)\n",
    "all_reviews_df.loc[:, 'numVotes'] = all_reviews_df['numVotes'].astype(float).astype(int)\n",
    "all_reviews_df.loc[:, 'Release Date'] = all_reviews_df['Release Date'].astype(float).astype(int)"
   ]
  },
  {
   "cell_type": "code",
   "execution_count": null,
   "metadata": {},
   "outputs": [],
   "source": [
    "# # Merge the DataFrames merged_df and all_reviews_df if the Movie name, numVotes and Release Date are the same in both DataFrames then bring the region, language, types and isOriginalTitle from the merged_df to all_reviews_df\n",
    "# merged_df = all_reviews_df.merge(merged_df, on=['Movie Name', 'numVotes', 'Release Date'], how='left')\n",
    "\n",
    "merged_df = all_reviews_df.merge(merged_df[['Movie Name', 'numVotes', 'Release Date', 'region', 'language', 'types']], \n",
    "                                        on=['Movie Name', 'numVotes', 'Release Date'], \n",
    "                                        how='left')\n",
    "\n",
    "# Display the final table\n",
    "merged_df.head(5)"
   ]
  },
  {
   "cell_type": "code",
   "execution_count": null,
   "metadata": {},
   "outputs": [],
   "source": [
    "merged_df.shape"
   ]
  },
  {
   "cell_type": "markdown",
   "metadata": {},
   "source": [
    "-------"
   ]
  },
  {
   "cell_type": "markdown",
   "metadata": {},
   "source": [
    "# Creating dummy variables\n",
    "----"
   ]
  },
  {
   "cell_type": "code",
   "execution_count": null,
   "metadata": {},
   "outputs": [],
   "source": [
    "# In the merged_df dataframe create dummy variables for the region column in the merged_df dataframe. the regions are separated by commas. The dummy variables should be 1 if the region is present and 0 if not. The dummy variables should be named after the region with the prefix 'region_'.\n",
    "\n",
    "# Split the 'region' column by commas and expand the split strings into separate columns\n",
    "region_dummies = merged_df['region'].str.get_dummies(sep=',')\n",
    "# Add a prefix to the column names\n",
    "region_dummies = region_dummies.add_prefix('region_')\n",
    "\n",
    "# Concatenate the dummy variables to the original DataFrame\n",
    "merged_df = pd.concat([merged_df, region_dummies], axis=1)"
   ]
  },
  {
   "cell_type": "code",
   "execution_count": null,
   "metadata": {},
   "outputs": [],
   "source": [
    "# In the merged_df dataframe create dummy variables for the language column in the merged_df dataframe. the languages are separated by commas. The dummy variables should be 1 if the language is present and 0 if not. The dummy variables should be named after the language with the prefix 'language_'.\n",
    "\n",
    "# Split the 'language' column by commas and expand the split strings into separate columns\n",
    "language_dummies = merged_df['language'].str.get_dummies(sep=',')\n",
    "# Add a prefix to the column names\n",
    "language_dummies = language_dummies.add_prefix('language_')\n",
    "\n",
    "# Concatenate the dummy variables to the original DataFrame\n",
    "merged_df = pd.concat([merged_df, language_dummies], axis=1)"
   ]
  },
  {
   "cell_type": "code",
   "execution_count": null,
   "metadata": {},
   "outputs": [],
   "source": [
    "# In the merged_df dataframe create dummy variables for the language column in the merged_df dataframe. the languages are separated by commas. The dummy variables should be 1 if the language is present and 0 if not. The dummy variables should be named after the language with the prefix 'language_'.\n",
    "\n",
    "# Split the 'language' column by commas and expand the split strings into separate columns\n",
    "types_dummies = merged_df['types'].str.get_dummies(sep=',')\n",
    "# Add a prefix to the column names\n",
    "types_dummies = types_dummies.add_prefix('types_')\n",
    "\n",
    "# Concatenate the dummy variables to the original DataFrame\n",
    "merged_df = pd.concat([merged_df, types_dummies], axis=1)"
   ]
  },
  {
   "cell_type": "code",
   "execution_count": null,
   "metadata": {},
   "outputs": [],
   "source": [
    "# In the merged_df dataframe create dummy variables for the language column in the merged_df dataframe. the languages are separated by commas. The dummy variables should be 1 if the language is present and 0 if not. The dummy variables should be named after the language with the prefix 'language_'.\n",
    "\n",
    "# Split the 'language' column by commas and expand the split strings into separate columns\n",
    "Genre_dummies = merged_df['Genre'].str.get_dummies(sep=',')\n",
    "# Add a prefix to the column names\n",
    "Genre_dummies = Genre_dummies.add_prefix('Genre_')\n",
    "\n",
    "# Concatenate the dummy variables to the original DataFrame\n",
    "merged_df = pd.concat([merged_df, Genre_dummies], axis=1)"
   ]
  },
  {
   "cell_type": "code",
   "execution_count": null,
   "metadata": {},
   "outputs": [],
   "source": [
    "# Create a dummy variable for the 'Spoiler Warning' column in the merged_df dataframe. The dummy variable should be 1 if the 'Spoiler Warning' column has the value 'Warning: Spoilers' else it will be 0.\n",
    "\n",
    "# Create a dummy variable for the 'Spoiler Warning' column\n",
    "merged_df['Spoiler Warning'] = (merged_df['Spoiler Warning'] == 'Warning: Spoilers').astype(int)"
   ]
  },
  {
   "cell_type": "code",
   "execution_count": null,
   "metadata": {},
   "outputs": [],
   "source": [
    "merged_df.shape"
   ]
  },
  {
   "cell_type": "markdown",
   "metadata": {},
   "source": [
    "----"
   ]
  },
  {
   "cell_type": "markdown",
   "metadata": {},
   "source": [
    "### Additional null value cleaning in the dataset"
   ]
  },
  {
   "cell_type": "code",
   "execution_count": null,
   "metadata": {},
   "outputs": [],
   "source": [
    "# Drop the following columns User Reviews URL, region, language, types\n",
    "merged_df.drop(['User Reviews URL', 'region', 'language', 'types'], axis=1, inplace=True)"
   ]
  },
  {
   "cell_type": "code",
   "execution_count": null,
   "metadata": {},
   "outputs": [],
   "source": [
    "# Drop all rows with the missing value in Review Title and Individual Rating columns in the merged_df dataframe\n",
    "merged_df = merged_df[merged_df['Review Title'].notnull()]\n",
    "merged_df = merged_df[merged_df['Individual Rating'].notnull()]"
   ]
  },
  {
   "cell_type": "code",
   "execution_count": null,
   "metadata": {},
   "outputs": [],
   "source": [
    "merged_df.shape"
   ]
  },
  {
   "cell_type": "markdown",
   "metadata": {},
   "source": [
    "-----"
   ]
  },
  {
   "cell_type": "markdown",
   "metadata": {},
   "source": [
    "### Removing all rows with the same Review Date, Review Title, Username, Review Text, Spoiler Warning, Movie Name, numVotes, Release Date, Rating, Runtime Minutes, isAdult, and Genre"
   ]
  },
  {
   "cell_type": "code",
   "execution_count": null,
   "metadata": {},
   "outputs": [],
   "source": [
    "# in merged_df if there are rows with the same Review Date, Review Title, Username, Review Text, Spoiler Warning, Movie Name, numVotes, Release Date, Rating, Runtime Minutes, isAdult, and Genre then remove all but keep one out of them.\n",
    "\n",
    "# Remove all rows with the same Review Date, Review Title, Username, Review Text, Spoiler Warning, Movie Name, numVotes, Release Date, Rating, Runtime Minutes, isAdult, and Genre\n",
    "merged_df = merged_df.drop_duplicates(subset=['Review Date', 'Review Title', 'Username', 'Review Text', 'Movie Name', 'numVotes', 'Release Date', 'Rating', 'Runtime Minutes'])\n",
    "\n",
    "# Reset index\n",
    "merged_df.reset_index(drop=True, inplace=True)"
   ]
  },
  {
   "cell_type": "code",
   "execution_count": null,
   "metadata": {},
   "outputs": [],
   "source": [
    "merged_df.shape"
   ]
  },
  {
   "cell_type": "markdown",
   "metadata": {},
   "source": [
    "----"
   ]
  },
  {
   "cell_type": "code",
   "execution_count": null,
   "metadata": {},
   "outputs": [],
   "source": [
    "# export the all_reviews_df dataframe to a csv file in the location '/Users/shreyashgupta/Library/CloudStorage/OneDrive-UniversityofArkansas/MSEA/2nd Semester - MSEA/ECON 5823 - ECONOMIC ANALYTICS II/Project Code file/all_reviews_df.csv'\n",
    "merged_df.to_csv('/Users/shreyashgupta/Library/CloudStorage/OneDrive-UniversityofArkansas/MSEA/2nd Semester - MSEA/ECON 5823 - ECONOMIC ANALYTICS II/Project Code file/IMDb_movie_review_sentiment_analysis/merged_df.csv', index=False)"
   ]
  },
  {
   "cell_type": "code",
   "execution_count": null,
   "metadata": {},
   "outputs": [],
   "source": [
    "# Clear all variables and memory\n",
    "%reset -f"
   ]
  },
  {
   "cell_type": "markdown",
   "metadata": {},
   "source": [
    "# Final dataframe is called **Movie_reviews_df**\n",
    "---------"
   ]
  },
  {
   "cell_type": "code",
   "execution_count": 2,
   "metadata": {},
   "outputs": [],
   "source": [
    "import pandas as pd\n",
    "\n",
    "# load all_reviews_df.csv into a dataframe called all_reviews_df\n",
    "all_final_reviews_df = pd.read_csv('/Users/shreyashgupta/Library/CloudStorage/OneDrive-UniversityofArkansas/MSEA/2nd Semester - MSEA/ECON 5823 - ECONOMIC ANALYTICS II/Project Code file/IMDb_movie_review_sentiment_analysis/merged_df.csv')"
   ]
  },
  {
   "cell_type": "code",
   "execution_count": 3,
   "metadata": {},
   "outputs": [
    {
     "data": {
      "text/html": [
       "<div>\n",
       "<style scoped>\n",
       "    .dataframe tbody tr th:only-of-type {\n",
       "        vertical-align: middle;\n",
       "    }\n",
       "\n",
       "    .dataframe tbody tr th {\n",
       "        vertical-align: top;\n",
       "    }\n",
       "\n",
       "    .dataframe thead th {\n",
       "        text-align: right;\n",
       "    }\n",
       "</style>\n",
       "<table border=\"1\" class=\"dataframe\">\n",
       "  <thead>\n",
       "    <tr style=\"text-align: right;\">\n",
       "      <th></th>\n",
       "      <th>Review Date</th>\n",
       "      <th>Review Title</th>\n",
       "      <th>Username</th>\n",
       "      <th>Helpful Votes</th>\n",
       "      <th>Total Votes</th>\n",
       "      <th>Individual Rating</th>\n",
       "      <th>Review Text</th>\n",
       "      <th>Spoiler Warning</th>\n",
       "      <th>Movie Name</th>\n",
       "      <th>Genre</th>\n",
       "      <th>...</th>\n",
       "      <th>Genre_Music</th>\n",
       "      <th>Genre_Musical</th>\n",
       "      <th>Genre_Mystery</th>\n",
       "      <th>Genre_News</th>\n",
       "      <th>Genre_Romance</th>\n",
       "      <th>Genre_Sci-Fi</th>\n",
       "      <th>Genre_Sport</th>\n",
       "      <th>Genre_Thriller</th>\n",
       "      <th>Genre_War</th>\n",
       "      <th>Genre_Western</th>\n",
       "    </tr>\n",
       "  </thead>\n",
       "  <tbody>\n",
       "    <tr>\n",
       "      <th>0</th>\n",
       "      <td>15 February 2023</td>\n",
       "      <td>I Don't Understand The Negative Reviews</td>\n",
       "      <td>varun-25071997</td>\n",
       "      <td>104</td>\n",
       "      <td>119</td>\n",
       "      <td>9.0</td>\n",
       "      <td>I don't know much about depression but I do kn...</td>\n",
       "      <td>0</td>\n",
       "      <td>The Son</td>\n",
       "      <td>Drama</td>\n",
       "      <td>...</td>\n",
       "      <td>0</td>\n",
       "      <td>0</td>\n",
       "      <td>0</td>\n",
       "      <td>0</td>\n",
       "      <td>0</td>\n",
       "      <td>0</td>\n",
       "      <td>0</td>\n",
       "      <td>0</td>\n",
       "      <td>0</td>\n",
       "      <td>0</td>\n",
       "    </tr>\n",
       "    <tr>\n",
       "      <th>1</th>\n",
       "      <td>16 February 2023</td>\n",
       "      <td>A teenager's psychological trauma and the cons...</td>\n",
       "      <td>madanmarwah</td>\n",
       "      <td>51</td>\n",
       "      <td>59</td>\n",
       "      <td>7.0</td>\n",
       "      <td>Just a bit of research into the works of write...</td>\n",
       "      <td>0</td>\n",
       "      <td>The Son</td>\n",
       "      <td>Drama</td>\n",
       "      <td>...</td>\n",
       "      <td>0</td>\n",
       "      <td>0</td>\n",
       "      <td>0</td>\n",
       "      <td>0</td>\n",
       "      <td>0</td>\n",
       "      <td>0</td>\n",
       "      <td>0</td>\n",
       "      <td>0</td>\n",
       "      <td>0</td>\n",
       "      <td>0</td>\n",
       "    </tr>\n",
       "  </tbody>\n",
       "</table>\n",
       "<p>2 rows × 229 columns</p>\n",
       "</div>"
      ],
      "text/plain": [
       "        Review Date                                       Review Title  \\\n",
       "0  15 February 2023            I Don't Understand The Negative Reviews   \n",
       "1  16 February 2023  A teenager's psychological trauma and the cons...   \n",
       "\n",
       "         Username  Helpful Votes  Total Votes  Individual Rating  \\\n",
       "0  varun-25071997            104          119                9.0   \n",
       "1     madanmarwah             51           59                7.0   \n",
       "\n",
       "                                         Review Text  Spoiler Warning  \\\n",
       "0  I don't know much about depression but I do kn...                0   \n",
       "1  Just a bit of research into the works of write...                0   \n",
       "\n",
       "  Movie Name  Genre  ...  Genre_Music  Genre_Musical  Genre_Mystery  \\\n",
       "0    The Son  Drama  ...            0              0              0   \n",
       "1    The Son  Drama  ...            0              0              0   \n",
       "\n",
       "   Genre_News  Genre_Romance  Genre_Sci-Fi  Genre_Sport  Genre_Thriller  \\\n",
       "0           0              0             0            0               0   \n",
       "1           0              0             0            0               0   \n",
       "\n",
       "   Genre_War  Genre_Western  \n",
       "0          0              0  \n",
       "1          0              0  \n",
       "\n",
       "[2 rows x 229 columns]"
      ]
     },
     "execution_count": 3,
     "metadata": {},
     "output_type": "execute_result"
    }
   ],
   "source": [
    "all_final_reviews_df.head(2)"
   ]
  },
  {
   "cell_type": "code",
   "execution_count": 4,
   "metadata": {},
   "outputs": [
    {
     "data": {
      "text/plain": [
       "(852981, 229)"
      ]
     },
     "execution_count": 4,
     "metadata": {},
     "output_type": "execute_result"
    }
   ],
   "source": [
    "all_final_reviews_df.shape"
   ]
  },
  {
   "cell_type": "markdown",
   "metadata": {},
   "source": [
    "# Vander Sentiment Score calculation\n",
    "-----"
   ]
  },
  {
   "cell_type": "markdown",
   "metadata": {},
   "source": [
    "### Sentiment score for Review Title"
   ]
  },
  {
   "cell_type": "code",
   "execution_count": null,
   "metadata": {},
   "outputs": [],
   "source": [
    "from vaderSentiment.vaderSentiment import SentimentIntensityAnalyzer\n",
    "from sklearn.metrics import mean_squared_error\n",
    "from joblib import Parallel, delayed\n",
    "def get_vader_sentiment_score(review):\n",
    "    sid = SentimentIntensityAnalyzer()\n",
    "    sentiment_scores = sid.polarity_scores(review)\n",
    "    return sentiment_scores['compound']\n",
    "\n",
    "# Apply the VADER sentiment analysis function to the 'Review Title' column in parallel\n",
    "all_final_reviews_df['Sentiment_score__Review_title'] = Parallel(n_jobs=-1)(delayed(get_vader_sentiment_score)(review) for review in all_final_reviews_df['Review Title'])\n",
    "\n",
    "# Calculate the Mean Squared Error (MSE) between VADER sentiment scores and individual ratings\n",
    "mse = mean_squared_error(all_final_reviews_df['Individual Rating'], all_final_reviews_df['Sentiment_score__Review_title'])\n",
    "print(\"Mean Squared Error (MSE) using VADER:\", mse)"
   ]
  },
  {
   "cell_type": "markdown",
   "metadata": {},
   "source": [
    "### Sentiment score for Review Text"
   ]
  },
  {
   "cell_type": "code",
   "execution_count": 6,
   "metadata": {},
   "outputs": [
    {
     "name": "stdout",
     "output_type": "stream",
     "text": [
      "Mean Squared Error (MSE) using VADER: 42.7677477563978\n"
     ]
    }
   ],
   "source": [
    "from vaderSentiment.vaderSentiment import SentimentIntensityAnalyzer\n",
    "from sklearn.metrics import mean_squared_error\n",
    "from joblib import Parallel, delayed\n",
    "def get_vader_sentiment_score(review):\n",
    "    sid = SentimentIntensityAnalyzer()\n",
    "    sentiment_scores = sid.polarity_scores(review)\n",
    "    return sentiment_scores['compound']\n",
    "\n",
    "# Apply the VADER sentiment analysis function to the 'Review Title' column in parallel\n",
    "all_final_reviews_df['Sentiment_score__Review_text'] = Parallel(n_jobs=-1)(delayed(get_vader_sentiment_score)(review) for review in all_final_reviews_df['Review Text'])\n",
    "\n",
    "# Calculate the Mean Squared Error (MSE) between VADER sentiment scores and individual ratings\n",
    "mse = mean_squared_error(all_final_reviews_df['Individual Rating'], all_final_reviews_df['Sentiment_score__Review_text'])\n",
    "print(\"Mean Squared Error (MSE) using VADER:\", mse)"
   ]
  },
  {
   "cell_type": "code",
   "execution_count": 7,
   "metadata": {},
   "outputs": [
    {
     "data": {
      "text/html": [
       "<div>\n",
       "<style scoped>\n",
       "    .dataframe tbody tr th:only-of-type {\n",
       "        vertical-align: middle;\n",
       "    }\n",
       "\n",
       "    .dataframe tbody tr th {\n",
       "        vertical-align: top;\n",
       "    }\n",
       "\n",
       "    .dataframe thead th {\n",
       "        text-align: right;\n",
       "    }\n",
       "</style>\n",
       "<table border=\"1\" class=\"dataframe\">\n",
       "  <thead>\n",
       "    <tr style=\"text-align: right;\">\n",
       "      <th></th>\n",
       "      <th>Review Date</th>\n",
       "      <th>Review Title</th>\n",
       "      <th>Username</th>\n",
       "      <th>Helpful Votes</th>\n",
       "      <th>Total Votes</th>\n",
       "      <th>Individual Rating</th>\n",
       "      <th>Review Text</th>\n",
       "      <th>Spoiler Warning</th>\n",
       "      <th>Movie Name</th>\n",
       "      <th>Genre</th>\n",
       "      <th>...</th>\n",
       "      <th>Genre_Mystery</th>\n",
       "      <th>Genre_News</th>\n",
       "      <th>Genre_Romance</th>\n",
       "      <th>Genre_Sci-Fi</th>\n",
       "      <th>Genre_Sport</th>\n",
       "      <th>Genre_Thriller</th>\n",
       "      <th>Genre_War</th>\n",
       "      <th>Genre_Western</th>\n",
       "      <th>Sentiment_score__Review_title</th>\n",
       "      <th>Sentiment_score__Review_text</th>\n",
       "    </tr>\n",
       "  </thead>\n",
       "  <tbody>\n",
       "    <tr>\n",
       "      <th>0</th>\n",
       "      <td>15 February 2023</td>\n",
       "      <td>I Don't Understand The Negative Reviews</td>\n",
       "      <td>varun-25071997</td>\n",
       "      <td>104</td>\n",
       "      <td>119</td>\n",
       "      <td>9.0</td>\n",
       "      <td>I don't know much about depression but I do kn...</td>\n",
       "      <td>0</td>\n",
       "      <td>The Son</td>\n",
       "      <td>Drama</td>\n",
       "      <td>...</td>\n",
       "      <td>0</td>\n",
       "      <td>0</td>\n",
       "      <td>0</td>\n",
       "      <td>0</td>\n",
       "      <td>0</td>\n",
       "      <td>0</td>\n",
       "      <td>0</td>\n",
       "      <td>0</td>\n",
       "      <td>0.4585</td>\n",
       "      <td>-0.6966</td>\n",
       "    </tr>\n",
       "    <tr>\n",
       "      <th>1</th>\n",
       "      <td>16 February 2023</td>\n",
       "      <td>A teenager's psychological trauma and the cons...</td>\n",
       "      <td>madanmarwah</td>\n",
       "      <td>51</td>\n",
       "      <td>59</td>\n",
       "      <td>7.0</td>\n",
       "      <td>Just a bit of research into the works of write...</td>\n",
       "      <td>0</td>\n",
       "      <td>The Son</td>\n",
       "      <td>Drama</td>\n",
       "      <td>...</td>\n",
       "      <td>0</td>\n",
       "      <td>0</td>\n",
       "      <td>0</td>\n",
       "      <td>0</td>\n",
       "      <td>0</td>\n",
       "      <td>0</td>\n",
       "      <td>0</td>\n",
       "      <td>0</td>\n",
       "      <td>-0.4215</td>\n",
       "      <td>-0.9495</td>\n",
       "    </tr>\n",
       "    <tr>\n",
       "      <th>2</th>\n",
       "      <td>15 October 2022</td>\n",
       "      <td>The Son is an emotionally devastating film wit...</td>\n",
       "      <td>msbreviews</td>\n",
       "      <td>95</td>\n",
       "      <td>121</td>\n",
       "      <td>8.0</td>\n",
       "      <td>If you enjoy reading my Spoiler-Free thoughts,...</td>\n",
       "      <td>1</td>\n",
       "      <td>The Son</td>\n",
       "      <td>Drama</td>\n",
       "      <td>...</td>\n",
       "      <td>0</td>\n",
       "      <td>0</td>\n",
       "      <td>0</td>\n",
       "      <td>0</td>\n",
       "      <td>0</td>\n",
       "      <td>0</td>\n",
       "      <td>0</td>\n",
       "      <td>0</td>\n",
       "      <td>-0.7351</td>\n",
       "      <td>0.3612</td>\n",
       "    </tr>\n",
       "    <tr>\n",
       "      <th>3</th>\n",
       "      <td>29 March 2023</td>\n",
       "      <td>Disturbing and profound</td>\n",
       "      <td>magnuslhad</td>\n",
       "      <td>45</td>\n",
       "      <td>53</td>\n",
       "      <td>9.0</td>\n",
       "      <td>The Son is every parent's nightmare. Reminisce...</td>\n",
       "      <td>0</td>\n",
       "      <td>The Son</td>\n",
       "      <td>Drama</td>\n",
       "      <td>...</td>\n",
       "      <td>0</td>\n",
       "      <td>0</td>\n",
       "      <td>0</td>\n",
       "      <td>0</td>\n",
       "      <td>0</td>\n",
       "      <td>0</td>\n",
       "      <td>0</td>\n",
       "      <td>0</td>\n",
       "      <td>-0.5106</td>\n",
       "      <td>0.8555</td>\n",
       "    </tr>\n",
       "    <tr>\n",
       "      <th>4</th>\n",
       "      <td>27 May 2023</td>\n",
       "      <td>Extraordinary!</td>\n",
       "      <td>acec-29548</td>\n",
       "      <td>67</td>\n",
       "      <td>76</td>\n",
       "      <td>10.0</td>\n",
       "      <td>Not all movies are meant to entertain. Some mo...</td>\n",
       "      <td>0</td>\n",
       "      <td>The Son</td>\n",
       "      <td>Drama</td>\n",
       "      <td>...</td>\n",
       "      <td>0</td>\n",
       "      <td>0</td>\n",
       "      <td>0</td>\n",
       "      <td>0</td>\n",
       "      <td>0</td>\n",
       "      <td>0</td>\n",
       "      <td>0</td>\n",
       "      <td>0</td>\n",
       "      <td>0.0000</td>\n",
       "      <td>-0.8035</td>\n",
       "    </tr>\n",
       "    <tr>\n",
       "      <th>...</th>\n",
       "      <td>...</td>\n",
       "      <td>...</td>\n",
       "      <td>...</td>\n",
       "      <td>...</td>\n",
       "      <td>...</td>\n",
       "      <td>...</td>\n",
       "      <td>...</td>\n",
       "      <td>...</td>\n",
       "      <td>...</td>\n",
       "      <td>...</td>\n",
       "      <td>...</td>\n",
       "      <td>...</td>\n",
       "      <td>...</td>\n",
       "      <td>...</td>\n",
       "      <td>...</td>\n",
       "      <td>...</td>\n",
       "      <td>...</td>\n",
       "      <td>...</td>\n",
       "      <td>...</td>\n",
       "      <td>...</td>\n",
       "      <td>...</td>\n",
       "    </tr>\n",
       "    <tr>\n",
       "      <th>852976</th>\n",
       "      <td>19 January 2023</td>\n",
       "      <td>Everyone got it wrong? It's a Metaphor, a cyni...</td>\n",
       "      <td>agelos-pikoulas</td>\n",
       "      <td>1</td>\n",
       "      <td>11</td>\n",
       "      <td>8.0</td>\n",
       "      <td>I'm surprised none has called the great Metaph...</td>\n",
       "      <td>1</td>\n",
       "      <td>The Banshees of Inisherin</td>\n",
       "      <td>Comedy,Drama</td>\n",
       "      <td>...</td>\n",
       "      <td>0</td>\n",
       "      <td>0</td>\n",
       "      <td>0</td>\n",
       "      <td>0</td>\n",
       "      <td>0</td>\n",
       "      <td>0</td>\n",
       "      <td>0</td>\n",
       "      <td>0</td>\n",
       "      <td>-0.8625</td>\n",
       "      <td>-0.5159</td>\n",
       "    </tr>\n",
       "    <tr>\n",
       "      <th>852977</th>\n",
       "      <td>3 January 2023</td>\n",
       "      <td>Brilliant director, story, and actors.</td>\n",
       "      <td>byronduquettea</td>\n",
       "      <td>2</td>\n",
       "      <td>6</td>\n",
       "      <td>8.0</td>\n",
       "      <td>Martin Mcdonagh directs yet another brilliant ...</td>\n",
       "      <td>0</td>\n",
       "      <td>The Banshees of Inisherin</td>\n",
       "      <td>Comedy,Drama</td>\n",
       "      <td>...</td>\n",
       "      <td>0</td>\n",
       "      <td>0</td>\n",
       "      <td>0</td>\n",
       "      <td>0</td>\n",
       "      <td>0</td>\n",
       "      <td>0</td>\n",
       "      <td>0</td>\n",
       "      <td>0</td>\n",
       "      <td>0.5859</td>\n",
       "      <td>0.7717</td>\n",
       "    </tr>\n",
       "    <tr>\n",
       "      <th>852978</th>\n",
       "      <td>25 January 2023</td>\n",
       "      <td>Your single act of stubboness change the world.</td>\n",
       "      <td>Fivealin</td>\n",
       "      <td>2</td>\n",
       "      <td>8</td>\n",
       "      <td>10.0</td>\n",
       "      <td>This is a gut wrenching film.This is the sadde...</td>\n",
       "      <td>1</td>\n",
       "      <td>The Banshees of Inisherin</td>\n",
       "      <td>Comedy,Drama</td>\n",
       "      <td>...</td>\n",
       "      <td>0</td>\n",
       "      <td>0</td>\n",
       "      <td>0</td>\n",
       "      <td>0</td>\n",
       "      <td>0</td>\n",
       "      <td>0</td>\n",
       "      <td>0</td>\n",
       "      <td>0</td>\n",
       "      <td>0.0000</td>\n",
       "      <td>-0.6728</td>\n",
       "    </tr>\n",
       "    <tr>\n",
       "      <th>852979</th>\n",
       "      <td>11 January 2023</td>\n",
       "      <td>Shush England, not Shush Padraic</td>\n",
       "      <td>iHRhabibur</td>\n",
       "      <td>3</td>\n",
       "      <td>9</td>\n",
       "      <td>8.0</td>\n",
       "      <td>Not Shush Padraic, it's more of a shush Englan...</td>\n",
       "      <td>0</td>\n",
       "      <td>The Banshees of Inisherin</td>\n",
       "      <td>Comedy,Drama</td>\n",
       "      <td>...</td>\n",
       "      <td>0</td>\n",
       "      <td>0</td>\n",
       "      <td>0</td>\n",
       "      <td>0</td>\n",
       "      <td>0</td>\n",
       "      <td>0</td>\n",
       "      <td>0</td>\n",
       "      <td>0</td>\n",
       "      <td>0.0000</td>\n",
       "      <td>-0.3416</td>\n",
       "    </tr>\n",
       "    <tr>\n",
       "      <th>852980</th>\n",
       "      <td>10 January 2023</td>\n",
       "      <td>This might top \"In Bruges\" for me.</td>\n",
       "      <td>Quantillus</td>\n",
       "      <td>2</td>\n",
       "      <td>11</td>\n",
       "      <td>8.0</td>\n",
       "      <td>I love the chemistry between Farrell and Glees...</td>\n",
       "      <td>0</td>\n",
       "      <td>The Banshees of Inisherin</td>\n",
       "      <td>Comedy,Drama</td>\n",
       "      <td>...</td>\n",
       "      <td>0</td>\n",
       "      <td>0</td>\n",
       "      <td>0</td>\n",
       "      <td>0</td>\n",
       "      <td>0</td>\n",
       "      <td>0</td>\n",
       "      <td>0</td>\n",
       "      <td>0</td>\n",
       "      <td>0.2023</td>\n",
       "      <td>0.9846</td>\n",
       "    </tr>\n",
       "  </tbody>\n",
       "</table>\n",
       "<p>852981 rows × 231 columns</p>\n",
       "</div>"
      ],
      "text/plain": [
       "             Review Date                                       Review Title  \\\n",
       "0       15 February 2023            I Don't Understand The Negative Reviews   \n",
       "1       16 February 2023  A teenager's psychological trauma and the cons...   \n",
       "2        15 October 2022  The Son is an emotionally devastating film wit...   \n",
       "3          29 March 2023                            Disturbing and profound   \n",
       "4            27 May 2023                                     Extraordinary!   \n",
       "...                  ...                                                ...   \n",
       "852976   19 January 2023  Everyone got it wrong? It's a Metaphor, a cyni...   \n",
       "852977    3 January 2023             Brilliant director, story, and actors.   \n",
       "852978   25 January 2023    Your single act of stubboness change the world.   \n",
       "852979   11 January 2023                   Shush England, not Shush Padraic   \n",
       "852980   10 January 2023                 This might top \"In Bruges\" for me.   \n",
       "\n",
       "               Username  Helpful Votes  Total Votes  Individual Rating  \\\n",
       "0        varun-25071997            104          119                9.0   \n",
       "1           madanmarwah             51           59                7.0   \n",
       "2            msbreviews             95          121                8.0   \n",
       "3            magnuslhad             45           53                9.0   \n",
       "4            acec-29548             67           76               10.0   \n",
       "...                 ...            ...          ...                ...   \n",
       "852976  agelos-pikoulas              1           11                8.0   \n",
       "852977   byronduquettea              2            6                8.0   \n",
       "852978         Fivealin              2            8               10.0   \n",
       "852979       iHRhabibur              3            9                8.0   \n",
       "852980       Quantillus              2           11                8.0   \n",
       "\n",
       "                                              Review Text  Spoiler Warning  \\\n",
       "0       I don't know much about depression but I do kn...                0   \n",
       "1       Just a bit of research into the works of write...                0   \n",
       "2       If you enjoy reading my Spoiler-Free thoughts,...                1   \n",
       "3       The Son is every parent's nightmare. Reminisce...                0   \n",
       "4       Not all movies are meant to entertain. Some mo...                0   \n",
       "...                                                   ...              ...   \n",
       "852976  I'm surprised none has called the great Metaph...                1   \n",
       "852977  Martin Mcdonagh directs yet another brilliant ...                0   \n",
       "852978  This is a gut wrenching film.This is the sadde...                1   \n",
       "852979  Not Shush Padraic, it's more of a shush Englan...                0   \n",
       "852980  I love the chemistry between Farrell and Glees...                0   \n",
       "\n",
       "                       Movie Name         Genre  ...  Genre_Mystery  \\\n",
       "0                         The Son         Drama  ...              0   \n",
       "1                         The Son         Drama  ...              0   \n",
       "2                         The Son         Drama  ...              0   \n",
       "3                         The Son         Drama  ...              0   \n",
       "4                         The Son         Drama  ...              0   \n",
       "...                           ...           ...  ...            ...   \n",
       "852976  The Banshees of Inisherin  Comedy,Drama  ...              0   \n",
       "852977  The Banshees of Inisherin  Comedy,Drama  ...              0   \n",
       "852978  The Banshees of Inisherin  Comedy,Drama  ...              0   \n",
       "852979  The Banshees of Inisherin  Comedy,Drama  ...              0   \n",
       "852980  The Banshees of Inisherin  Comedy,Drama  ...              0   \n",
       "\n",
       "        Genre_News  Genre_Romance  Genre_Sci-Fi  Genre_Sport  Genre_Thriller  \\\n",
       "0                0              0             0            0               0   \n",
       "1                0              0             0            0               0   \n",
       "2                0              0             0            0               0   \n",
       "3                0              0             0            0               0   \n",
       "4                0              0             0            0               0   \n",
       "...            ...            ...           ...          ...             ...   \n",
       "852976           0              0             0            0               0   \n",
       "852977           0              0             0            0               0   \n",
       "852978           0              0             0            0               0   \n",
       "852979           0              0             0            0               0   \n",
       "852980           0              0             0            0               0   \n",
       "\n",
       "        Genre_War  Genre_Western  Sentiment_score__Review_title  \\\n",
       "0               0              0                         0.4585   \n",
       "1               0              0                        -0.4215   \n",
       "2               0              0                        -0.7351   \n",
       "3               0              0                        -0.5106   \n",
       "4               0              0                         0.0000   \n",
       "...           ...            ...                            ...   \n",
       "852976          0              0                        -0.8625   \n",
       "852977          0              0                         0.5859   \n",
       "852978          0              0                         0.0000   \n",
       "852979          0              0                         0.0000   \n",
       "852980          0              0                         0.2023   \n",
       "\n",
       "        Sentiment_score__Review_text  \n",
       "0                            -0.6966  \n",
       "1                            -0.9495  \n",
       "2                             0.3612  \n",
       "3                             0.8555  \n",
       "4                            -0.8035  \n",
       "...                              ...  \n",
       "852976                       -0.5159  \n",
       "852977                        0.7717  \n",
       "852978                       -0.6728  \n",
       "852979                       -0.3416  \n",
       "852980                        0.9846  \n",
       "\n",
       "[852981 rows x 231 columns]"
      ]
     },
     "execution_count": 7,
     "metadata": {},
     "output_type": "execute_result"
    }
   ],
   "source": [
    "all_final_reviews_df"
   ]
  },
  {
   "cell_type": "code",
   "execution_count": 8,
   "metadata": {},
   "outputs": [
    {
     "data": {
      "text/plain": [
       "Index(['Review Date', 'Review Title', 'Username', 'Helpful Votes',\n",
       "       'Total Votes', 'Individual Rating', 'Review Text', 'Spoiler Warning',\n",
       "       'Movie Name', 'Genre',\n",
       "       ...\n",
       "       'Genre_Mystery', 'Genre_News', 'Genre_Romance', 'Genre_Sci-Fi',\n",
       "       'Genre_Sport', 'Genre_Thriller', 'Genre_War', 'Genre_Western',\n",
       "       'Sentiment_score__Review_title', 'Sentiment_score__Review_text'],\n",
       "      dtype='object', length=231)"
      ]
     },
     "execution_count": 8,
     "metadata": {},
     "output_type": "execute_result"
    }
   ],
   "source": [
    "all_final_reviews_df.columns"
   ]
  },
  {
   "cell_type": "code",
   "execution_count": 9,
   "metadata": {},
   "outputs": [],
   "source": [
    "# export all_final_reviews_df to a csv file in the location '/Users/shreyashgupta/Library/CloudStorage/OneDrive-UniversityofArkansas/MSEA/2nd Semester - MSEA/ECON 5823 - ECONOMIC ANALYTICS II/Project Code file/IMDb_movie_review_sentiment_analysis/merged_df_after_sentiment_score.csv'\n",
    "all_final_reviews_df.to_csv('/Users/shreyashgupta/Library/CloudStorage/OneDrive-UniversityofArkansas/MSEA/2nd Semester - MSEA/ECON 5823 - ECONOMIC ANALYTICS II/Project Code file/IMDb_movie_review_sentiment_analysis/merged_df_after_sentiment_score.csv', index=False)"
   ]
  },
  {
   "cell_type": "markdown",
   "metadata": {},
   "source": [
    "# Need to create a new column that calculates the 'Days since'\n",
    "-----"
   ]
  },
  {
   "cell_type": "code",
   "execution_count": 28,
   "metadata": {},
   "outputs": [],
   "source": [
    "import pandas as pd\n",
    "\n",
    "# import all_final_reviews_df from the location '/Users/shreyashgupta/Library/CloudStorage/OneDrive-UniversityofArkansas/MSEA/2nd Semester - MSEA/ECON 5823 - ECONOMIC ANALYTICS II/Project Code file/IMDb_movie_review_sentiment_analysis/final_with_predicted_rating.csv'\n",
    "all_final_reviews_df = pd.read_csv('/Users/shreyashgupta/Library/CloudStorage/OneDrive-UniversityofArkansas/MSEA/2nd Semester - MSEA/ECON 5823 - ECONOMIC ANALYTICS II/Project Code file/IMDb_movie_review_sentiment_analysis/final_with_predicted_rating.csv')"
   ]
  },
  {
   "cell_type": "code",
   "execution_count": 29,
   "metadata": {},
   "outputs": [],
   "source": [
    "# create a new column called 'Movie_name_and_release_year' which combines the 'Movie Name' and 'Release year' values in the all_final_reviews_df dataframe\n",
    "all_final_reviews_df['Movie_name_and_release_year'] = all_final_reviews_df['Movie Name'] + ' (' + all_final_reviews_df['Release Date'].astype(str) + ')'"
   ]
  },
  {
   "cell_type": "code",
   "execution_count": 30,
   "metadata": {},
   "outputs": [],
   "source": [
    "# in the all_final_reviews_df create a new column called 'Release_date_actual' where for each unique value in the Movie_name_and_release_year column the value in the 'Release_date_actual' will be the earliest date from the 'Review Date' column. So if for a movie 'Avengers' the earliest date from the 'Review Date' is the '16 February 2023' out of all the other dates then the 'Release_date_actual' for 'Avengers' will be '16 February 2023'.\n",
    "\n",
    "# Convert 'Review Date' to datetime format\n",
    "all_final_reviews_df['Review Date'] = pd.to_datetime(all_final_reviews_df['Review Date'], errors='coerce')\n",
    "\n",
    "# Group by 'Movie_name_and_release_year' and find the minimum 'Review Date'\n",
    "release_date_actual = all_final_reviews_df.groupby('Movie_name_and_release_year')['Review Date'].min().reset_index()\n",
    "release_date_actual.rename(columns={'Review Date': 'Release_date_actual'}, inplace=True)\n",
    "\n",
    "# Merge the 'Release_date_actual' back to the original DataFrame\n",
    "all_final_reviews_df = all_final_reviews_df.merge(release_date_actual, on='Movie_name_and_release_year', how='left')\n",
    "\n",
    "# drop Movie_name_and_release_year column\n",
    "all_final_reviews_df.drop('Movie_name_and_release_year', axis=1, inplace=True)"
   ]
  },
  {
   "cell_type": "code",
   "execution_count": 31,
   "metadata": {},
   "outputs": [
    {
     "data": {
      "text/html": [
       "<div>\n",
       "<style scoped>\n",
       "    .dataframe tbody tr th:only-of-type {\n",
       "        vertical-align: middle;\n",
       "    }\n",
       "\n",
       "    .dataframe tbody tr th {\n",
       "        vertical-align: top;\n",
       "    }\n",
       "\n",
       "    .dataframe thead th {\n",
       "        text-align: right;\n",
       "    }\n",
       "</style>\n",
       "<table border=\"1\" class=\"dataframe\">\n",
       "  <thead>\n",
       "    <tr style=\"text-align: right;\">\n",
       "      <th></th>\n",
       "      <th>Review Date</th>\n",
       "      <th>Review Title</th>\n",
       "      <th>Username</th>\n",
       "      <th>Helpful Votes</th>\n",
       "      <th>Total Votes</th>\n",
       "      <th>Individual Rating</th>\n",
       "      <th>Review Text</th>\n",
       "      <th>Spoiler Warning</th>\n",
       "      <th>Movie Name</th>\n",
       "      <th>Genre</th>\n",
       "      <th>...</th>\n",
       "      <th>Genre_Romance</th>\n",
       "      <th>Genre_Sci-Fi</th>\n",
       "      <th>Genre_Sport</th>\n",
       "      <th>Genre_Thriller</th>\n",
       "      <th>Genre_War</th>\n",
       "      <th>Genre_Western</th>\n",
       "      <th>Sentiment_score__Review_title</th>\n",
       "      <th>Sentiment_score__Review_text</th>\n",
       "      <th>Predicted Rating</th>\n",
       "      <th>Release_date_actual</th>\n",
       "    </tr>\n",
       "  </thead>\n",
       "  <tbody>\n",
       "    <tr>\n",
       "      <th>0</th>\n",
       "      <td>2023-02-15</td>\n",
       "      <td>I Don't Understand The Negative Reviews</td>\n",
       "      <td>varun-25071997</td>\n",
       "      <td>104</td>\n",
       "      <td>119</td>\n",
       "      <td>9</td>\n",
       "      <td>I don't know much about depression but I do kn...</td>\n",
       "      <td>0</td>\n",
       "      <td>The Son</td>\n",
       "      <td>Drama</td>\n",
       "      <td>...</td>\n",
       "      <td>0</td>\n",
       "      <td>0</td>\n",
       "      <td>0</td>\n",
       "      <td>0</td>\n",
       "      <td>0</td>\n",
       "      <td>0</td>\n",
       "      <td>0.4585</td>\n",
       "      <td>-0.6966</td>\n",
       "      <td>6.899688</td>\n",
       "      <td>2022-09-13</td>\n",
       "    </tr>\n",
       "    <tr>\n",
       "      <th>1</th>\n",
       "      <td>2023-02-16</td>\n",
       "      <td>A teenager's psychological trauma and the cons...</td>\n",
       "      <td>madanmarwah</td>\n",
       "      <td>51</td>\n",
       "      <td>59</td>\n",
       "      <td>7</td>\n",
       "      <td>Just a bit of research into the works of write...</td>\n",
       "      <td>0</td>\n",
       "      <td>The Son</td>\n",
       "      <td>Drama</td>\n",
       "      <td>...</td>\n",
       "      <td>0</td>\n",
       "      <td>0</td>\n",
       "      <td>0</td>\n",
       "      <td>0</td>\n",
       "      <td>0</td>\n",
       "      <td>0</td>\n",
       "      <td>-0.4215</td>\n",
       "      <td>-0.9495</td>\n",
       "      <td>5.840226</td>\n",
       "      <td>2022-09-13</td>\n",
       "    </tr>\n",
       "    <tr>\n",
       "      <th>2</th>\n",
       "      <td>2022-10-15</td>\n",
       "      <td>The Son is an emotionally devastating film wit...</td>\n",
       "      <td>msbreviews</td>\n",
       "      <td>95</td>\n",
       "      <td>121</td>\n",
       "      <td>8</td>\n",
       "      <td>If you enjoy reading my Spoiler-Free thoughts,...</td>\n",
       "      <td>1</td>\n",
       "      <td>The Son</td>\n",
       "      <td>Drama</td>\n",
       "      <td>...</td>\n",
       "      <td>0</td>\n",
       "      <td>0</td>\n",
       "      <td>0</td>\n",
       "      <td>0</td>\n",
       "      <td>0</td>\n",
       "      <td>0</td>\n",
       "      <td>-0.7351</td>\n",
       "      <td>0.3612</td>\n",
       "      <td>6.340936</td>\n",
       "      <td>2022-09-13</td>\n",
       "    </tr>\n",
       "    <tr>\n",
       "      <th>3</th>\n",
       "      <td>2023-03-29</td>\n",
       "      <td>Disturbing and profound</td>\n",
       "      <td>magnuslhad</td>\n",
       "      <td>45</td>\n",
       "      <td>53</td>\n",
       "      <td>9</td>\n",
       "      <td>The Son is every parent's nightmare. Reminisce...</td>\n",
       "      <td>0</td>\n",
       "      <td>The Son</td>\n",
       "      <td>Drama</td>\n",
       "      <td>...</td>\n",
       "      <td>0</td>\n",
       "      <td>0</td>\n",
       "      <td>0</td>\n",
       "      <td>0</td>\n",
       "      <td>0</td>\n",
       "      <td>0</td>\n",
       "      <td>-0.5106</td>\n",
       "      <td>0.8555</td>\n",
       "      <td>7.562127</td>\n",
       "      <td>2022-09-13</td>\n",
       "    </tr>\n",
       "    <tr>\n",
       "      <th>4</th>\n",
       "      <td>2023-05-27</td>\n",
       "      <td>Extraordinary!</td>\n",
       "      <td>acec-29548</td>\n",
       "      <td>67</td>\n",
       "      <td>76</td>\n",
       "      <td>10</td>\n",
       "      <td>Not all movies are meant to entertain. Some mo...</td>\n",
       "      <td>0</td>\n",
       "      <td>The Son</td>\n",
       "      <td>Drama</td>\n",
       "      <td>...</td>\n",
       "      <td>0</td>\n",
       "      <td>0</td>\n",
       "      <td>0</td>\n",
       "      <td>0</td>\n",
       "      <td>0</td>\n",
       "      <td>0</td>\n",
       "      <td>0.0000</td>\n",
       "      <td>-0.8035</td>\n",
       "      <td>6.683297</td>\n",
       "      <td>2022-09-13</td>\n",
       "    </tr>\n",
       "    <tr>\n",
       "      <th>...</th>\n",
       "      <td>...</td>\n",
       "      <td>...</td>\n",
       "      <td>...</td>\n",
       "      <td>...</td>\n",
       "      <td>...</td>\n",
       "      <td>...</td>\n",
       "      <td>...</td>\n",
       "      <td>...</td>\n",
       "      <td>...</td>\n",
       "      <td>...</td>\n",
       "      <td>...</td>\n",
       "      <td>...</td>\n",
       "      <td>...</td>\n",
       "      <td>...</td>\n",
       "      <td>...</td>\n",
       "      <td>...</td>\n",
       "      <td>...</td>\n",
       "      <td>...</td>\n",
       "      <td>...</td>\n",
       "      <td>...</td>\n",
       "      <td>...</td>\n",
       "    </tr>\n",
       "    <tr>\n",
       "      <th>852976</th>\n",
       "      <td>2023-01-19</td>\n",
       "      <td>Everyone got it wrong? It's a Metaphor, a cyni...</td>\n",
       "      <td>agelos-pikoulas</td>\n",
       "      <td>1</td>\n",
       "      <td>11</td>\n",
       "      <td>8</td>\n",
       "      <td>I'm surprised none has called the great Metaph...</td>\n",
       "      <td>1</td>\n",
       "      <td>The Banshees of Inisherin</td>\n",
       "      <td>Comedy,Drama</td>\n",
       "      <td>...</td>\n",
       "      <td>0</td>\n",
       "      <td>0</td>\n",
       "      <td>0</td>\n",
       "      <td>0</td>\n",
       "      <td>0</td>\n",
       "      <td>0</td>\n",
       "      <td>-0.8625</td>\n",
       "      <td>-0.5159</td>\n",
       "      <td>4.029799</td>\n",
       "      <td>2022-09-07</td>\n",
       "    </tr>\n",
       "    <tr>\n",
       "      <th>852977</th>\n",
       "      <td>2023-01-03</td>\n",
       "      <td>Brilliant director, story, and actors.</td>\n",
       "      <td>byronduquettea</td>\n",
       "      <td>2</td>\n",
       "      <td>6</td>\n",
       "      <td>8</td>\n",
       "      <td>Martin Mcdonagh directs yet another brilliant ...</td>\n",
       "      <td>0</td>\n",
       "      <td>The Banshees of Inisherin</td>\n",
       "      <td>Comedy,Drama</td>\n",
       "      <td>...</td>\n",
       "      <td>0</td>\n",
       "      <td>0</td>\n",
       "      <td>0</td>\n",
       "      <td>0</td>\n",
       "      <td>0</td>\n",
       "      <td>0</td>\n",
       "      <td>0.5859</td>\n",
       "      <td>0.7717</td>\n",
       "      <td>8.132694</td>\n",
       "      <td>2022-09-07</td>\n",
       "    </tr>\n",
       "    <tr>\n",
       "      <th>852978</th>\n",
       "      <td>2023-01-25</td>\n",
       "      <td>Your single act of stubboness change the world.</td>\n",
       "      <td>Fivealin</td>\n",
       "      <td>2</td>\n",
       "      <td>8</td>\n",
       "      <td>10</td>\n",
       "      <td>This is a gut wrenching film.This is the sadde...</td>\n",
       "      <td>1</td>\n",
       "      <td>The Banshees of Inisherin</td>\n",
       "      <td>Comedy,Drama</td>\n",
       "      <td>...</td>\n",
       "      <td>0</td>\n",
       "      <td>0</td>\n",
       "      <td>0</td>\n",
       "      <td>0</td>\n",
       "      <td>0</td>\n",
       "      <td>0</td>\n",
       "      <td>0.0000</td>\n",
       "      <td>-0.6728</td>\n",
       "      <td>5.331083</td>\n",
       "      <td>2022-09-07</td>\n",
       "    </tr>\n",
       "    <tr>\n",
       "      <th>852979</th>\n",
       "      <td>2023-01-11</td>\n",
       "      <td>Shush England, not Shush Padraic</td>\n",
       "      <td>iHRhabibur</td>\n",
       "      <td>3</td>\n",
       "      <td>9</td>\n",
       "      <td>8</td>\n",
       "      <td>Not Shush Padraic, it's more of a shush Englan...</td>\n",
       "      <td>0</td>\n",
       "      <td>The Banshees of Inisherin</td>\n",
       "      <td>Comedy,Drama</td>\n",
       "      <td>...</td>\n",
       "      <td>0</td>\n",
       "      <td>0</td>\n",
       "      <td>0</td>\n",
       "      <td>0</td>\n",
       "      <td>0</td>\n",
       "      <td>0</td>\n",
       "      <td>0.0000</td>\n",
       "      <td>-0.3416</td>\n",
       "      <td>5.037545</td>\n",
       "      <td>2022-09-07</td>\n",
       "    </tr>\n",
       "    <tr>\n",
       "      <th>852980</th>\n",
       "      <td>2023-01-10</td>\n",
       "      <td>This might top \"In Bruges\" for me.</td>\n",
       "      <td>Quantillus</td>\n",
       "      <td>2</td>\n",
       "      <td>11</td>\n",
       "      <td>8</td>\n",
       "      <td>I love the chemistry between Farrell and Glees...</td>\n",
       "      <td>0</td>\n",
       "      <td>The Banshees of Inisherin</td>\n",
       "      <td>Comedy,Drama</td>\n",
       "      <td>...</td>\n",
       "      <td>0</td>\n",
       "      <td>0</td>\n",
       "      <td>0</td>\n",
       "      <td>0</td>\n",
       "      <td>0</td>\n",
       "      <td>0</td>\n",
       "      <td>0.2023</td>\n",
       "      <td>0.9846</td>\n",
       "      <td>8.183773</td>\n",
       "      <td>2022-09-07</td>\n",
       "    </tr>\n",
       "  </tbody>\n",
       "</table>\n",
       "<p>852981 rows × 233 columns</p>\n",
       "</div>"
      ],
      "text/plain": [
       "       Review Date                                       Review Title  \\\n",
       "0       2023-02-15            I Don't Understand The Negative Reviews   \n",
       "1       2023-02-16  A teenager's psychological trauma and the cons...   \n",
       "2       2022-10-15  The Son is an emotionally devastating film wit...   \n",
       "3       2023-03-29                            Disturbing and profound   \n",
       "4       2023-05-27                                     Extraordinary!   \n",
       "...            ...                                                ...   \n",
       "852976  2023-01-19  Everyone got it wrong? It's a Metaphor, a cyni...   \n",
       "852977  2023-01-03             Brilliant director, story, and actors.   \n",
       "852978  2023-01-25    Your single act of stubboness change the world.   \n",
       "852979  2023-01-11                   Shush England, not Shush Padraic   \n",
       "852980  2023-01-10                 This might top \"In Bruges\" for me.   \n",
       "\n",
       "               Username  Helpful Votes  Total Votes  Individual Rating  \\\n",
       "0        varun-25071997            104          119                  9   \n",
       "1           madanmarwah             51           59                  7   \n",
       "2            msbreviews             95          121                  8   \n",
       "3            magnuslhad             45           53                  9   \n",
       "4            acec-29548             67           76                 10   \n",
       "...                 ...            ...          ...                ...   \n",
       "852976  agelos-pikoulas              1           11                  8   \n",
       "852977   byronduquettea              2            6                  8   \n",
       "852978         Fivealin              2            8                 10   \n",
       "852979       iHRhabibur              3            9                  8   \n",
       "852980       Quantillus              2           11                  8   \n",
       "\n",
       "                                              Review Text  Spoiler Warning  \\\n",
       "0       I don't know much about depression but I do kn...                0   \n",
       "1       Just a bit of research into the works of write...                0   \n",
       "2       If you enjoy reading my Spoiler-Free thoughts,...                1   \n",
       "3       The Son is every parent's nightmare. Reminisce...                0   \n",
       "4       Not all movies are meant to entertain. Some mo...                0   \n",
       "...                                                   ...              ...   \n",
       "852976  I'm surprised none has called the great Metaph...                1   \n",
       "852977  Martin Mcdonagh directs yet another brilliant ...                0   \n",
       "852978  This is a gut wrenching film.This is the sadde...                1   \n",
       "852979  Not Shush Padraic, it's more of a shush Englan...                0   \n",
       "852980  I love the chemistry between Farrell and Glees...                0   \n",
       "\n",
       "                       Movie Name         Genre  ...  Genre_Romance  \\\n",
       "0                         The Son         Drama  ...              0   \n",
       "1                         The Son         Drama  ...              0   \n",
       "2                         The Son         Drama  ...              0   \n",
       "3                         The Son         Drama  ...              0   \n",
       "4                         The Son         Drama  ...              0   \n",
       "...                           ...           ...  ...            ...   \n",
       "852976  The Banshees of Inisherin  Comedy,Drama  ...              0   \n",
       "852977  The Banshees of Inisherin  Comedy,Drama  ...              0   \n",
       "852978  The Banshees of Inisherin  Comedy,Drama  ...              0   \n",
       "852979  The Banshees of Inisherin  Comedy,Drama  ...              0   \n",
       "852980  The Banshees of Inisherin  Comedy,Drama  ...              0   \n",
       "\n",
       "        Genre_Sci-Fi  Genre_Sport  Genre_Thriller  Genre_War  Genre_Western  \\\n",
       "0                  0            0               0          0              0   \n",
       "1                  0            0               0          0              0   \n",
       "2                  0            0               0          0              0   \n",
       "3                  0            0               0          0              0   \n",
       "4                  0            0               0          0              0   \n",
       "...              ...          ...             ...        ...            ...   \n",
       "852976             0            0               0          0              0   \n",
       "852977             0            0               0          0              0   \n",
       "852978             0            0               0          0              0   \n",
       "852979             0            0               0          0              0   \n",
       "852980             0            0               0          0              0   \n",
       "\n",
       "        Sentiment_score__Review_title  Sentiment_score__Review_text  \\\n",
       "0                              0.4585                       -0.6966   \n",
       "1                             -0.4215                       -0.9495   \n",
       "2                             -0.7351                        0.3612   \n",
       "3                             -0.5106                        0.8555   \n",
       "4                              0.0000                       -0.8035   \n",
       "...                               ...                           ...   \n",
       "852976                        -0.8625                       -0.5159   \n",
       "852977                         0.5859                        0.7717   \n",
       "852978                         0.0000                       -0.6728   \n",
       "852979                         0.0000                       -0.3416   \n",
       "852980                         0.2023                        0.9846   \n",
       "\n",
       "        Predicted Rating  Release_date_actual  \n",
       "0               6.899688           2022-09-13  \n",
       "1               5.840226           2022-09-13  \n",
       "2               6.340936           2022-09-13  \n",
       "3               7.562127           2022-09-13  \n",
       "4               6.683297           2022-09-13  \n",
       "...                  ...                  ...  \n",
       "852976          4.029799           2022-09-07  \n",
       "852977          8.132694           2022-09-07  \n",
       "852978          5.331083           2022-09-07  \n",
       "852979          5.037545           2022-09-07  \n",
       "852980          8.183773           2022-09-07  \n",
       "\n",
       "[852981 rows x 233 columns]"
      ]
     },
     "execution_count": 31,
     "metadata": {},
     "output_type": "execute_result"
    }
   ],
   "source": [
    "all_final_reviews_df"
   ]
  },
  {
   "cell_type": "code",
   "execution_count": 32,
   "metadata": {},
   "outputs": [],
   "source": [
    "columns = all_final_reviews_df.head(2)"
   ]
  },
  {
   "cell_type": "code",
   "execution_count": 33,
   "metadata": {},
   "outputs": [],
   "source": [
    "# drop the predicted rating column from the all_final_reviews_df dataframe\n",
    "all_final_reviews_df.drop('Predicted Rating', axis=1, inplace=True)"
   ]
  },
  {
   "cell_type": "code",
   "execution_count": 34,
   "metadata": {},
   "outputs": [],
   "source": [
    "# Create a new column that is called 'Days_since_release' which substracts the 'Release_date_actual' from the 'Review Date' in the all_final_reviews_df dataframe\n",
    "all_final_reviews_df['Days_since_release'] = (all_final_reviews_df['Review Date'] - all_final_reviews_df['Release_date_actual']).dt.days"
   ]
  },
  {
   "cell_type": "code",
   "execution_count": 35,
   "metadata": {},
   "outputs": [
    {
     "data": {
      "text/html": [
       "<div>\n",
       "<style scoped>\n",
       "    .dataframe tbody tr th:only-of-type {\n",
       "        vertical-align: middle;\n",
       "    }\n",
       "\n",
       "    .dataframe tbody tr th {\n",
       "        vertical-align: top;\n",
       "    }\n",
       "\n",
       "    .dataframe thead th {\n",
       "        text-align: right;\n",
       "    }\n",
       "</style>\n",
       "<table border=\"1\" class=\"dataframe\">\n",
       "  <thead>\n",
       "    <tr style=\"text-align: right;\">\n",
       "      <th></th>\n",
       "      <th>Review Date</th>\n",
       "      <th>Review Title</th>\n",
       "      <th>Username</th>\n",
       "      <th>Helpful Votes</th>\n",
       "      <th>Total Votes</th>\n",
       "      <th>Individual Rating</th>\n",
       "      <th>Review Text</th>\n",
       "      <th>Spoiler Warning</th>\n",
       "      <th>Movie Name</th>\n",
       "      <th>Genre</th>\n",
       "      <th>...</th>\n",
       "      <th>Genre_Romance</th>\n",
       "      <th>Genre_Sci-Fi</th>\n",
       "      <th>Genre_Sport</th>\n",
       "      <th>Genre_Thriller</th>\n",
       "      <th>Genre_War</th>\n",
       "      <th>Genre_Western</th>\n",
       "      <th>Sentiment_score__Review_title</th>\n",
       "      <th>Sentiment_score__Review_text</th>\n",
       "      <th>Release_date_actual</th>\n",
       "      <th>Days_since_release</th>\n",
       "    </tr>\n",
       "  </thead>\n",
       "  <tbody>\n",
       "    <tr>\n",
       "      <th>0</th>\n",
       "      <td>2023-02-15</td>\n",
       "      <td>I Don't Understand The Negative Reviews</td>\n",
       "      <td>varun-25071997</td>\n",
       "      <td>104</td>\n",
       "      <td>119</td>\n",
       "      <td>9</td>\n",
       "      <td>I don't know much about depression but I do kn...</td>\n",
       "      <td>0</td>\n",
       "      <td>The Son</td>\n",
       "      <td>Drama</td>\n",
       "      <td>...</td>\n",
       "      <td>0</td>\n",
       "      <td>0</td>\n",
       "      <td>0</td>\n",
       "      <td>0</td>\n",
       "      <td>0</td>\n",
       "      <td>0</td>\n",
       "      <td>0.4585</td>\n",
       "      <td>-0.6966</td>\n",
       "      <td>2022-09-13</td>\n",
       "      <td>155</td>\n",
       "    </tr>\n",
       "    <tr>\n",
       "      <th>1</th>\n",
       "      <td>2023-02-16</td>\n",
       "      <td>A teenager's psychological trauma and the cons...</td>\n",
       "      <td>madanmarwah</td>\n",
       "      <td>51</td>\n",
       "      <td>59</td>\n",
       "      <td>7</td>\n",
       "      <td>Just a bit of research into the works of write...</td>\n",
       "      <td>0</td>\n",
       "      <td>The Son</td>\n",
       "      <td>Drama</td>\n",
       "      <td>...</td>\n",
       "      <td>0</td>\n",
       "      <td>0</td>\n",
       "      <td>0</td>\n",
       "      <td>0</td>\n",
       "      <td>0</td>\n",
       "      <td>0</td>\n",
       "      <td>-0.4215</td>\n",
       "      <td>-0.9495</td>\n",
       "      <td>2022-09-13</td>\n",
       "      <td>156</td>\n",
       "    </tr>\n",
       "  </tbody>\n",
       "</table>\n",
       "<p>2 rows × 233 columns</p>\n",
       "</div>"
      ],
      "text/plain": [
       "  Review Date                                       Review Title  \\\n",
       "0  2023-02-15            I Don't Understand The Negative Reviews   \n",
       "1  2023-02-16  A teenager's psychological trauma and the cons...   \n",
       "\n",
       "         Username  Helpful Votes  Total Votes  Individual Rating  \\\n",
       "0  varun-25071997            104          119                  9   \n",
       "1     madanmarwah             51           59                  7   \n",
       "\n",
       "                                         Review Text  Spoiler Warning  \\\n",
       "0  I don't know much about depression but I do kn...                0   \n",
       "1  Just a bit of research into the works of write...                0   \n",
       "\n",
       "  Movie Name  Genre  ...  Genre_Romance  Genre_Sci-Fi  Genre_Sport  \\\n",
       "0    The Son  Drama  ...              0             0            0   \n",
       "1    The Son  Drama  ...              0             0            0   \n",
       "\n",
       "   Genre_Thriller  Genre_War  Genre_Western  Sentiment_score__Review_title  \\\n",
       "0               0          0              0                         0.4585   \n",
       "1               0          0              0                        -0.4215   \n",
       "\n",
       "   Sentiment_score__Review_text  Release_date_actual  Days_since_release  \n",
       "0                       -0.6966           2022-09-13                 155  \n",
       "1                       -0.9495           2022-09-13                 156  \n",
       "\n",
       "[2 rows x 233 columns]"
      ]
     },
     "execution_count": 35,
     "metadata": {},
     "output_type": "execute_result"
    }
   ],
   "source": [
    "all_final_reviews_df.head(2)"
   ]
  },
  {
   "cell_type": "code",
   "execution_count": 36,
   "metadata": {},
   "outputs": [],
   "source": [
    "# export all_final_reviews_df to a csv file in the location '/Users/shreyashgupta/Library/CloudStorage/OneDrive-UniversityofArkansas/MSEA/2nd Semester - MSEA/ECON 5823 - ECONOMIC ANALYTICS II/Project Code file/IMDb_movie_review_sentiment_analysis/final_with_days_since_release.csv'\n",
    "all_final_reviews_df.to_csv('/Users/shreyashgupta/Library/CloudStorage/OneDrive-UniversityofArkansas/MSEA/2nd Semester - MSEA/ECON 5823 - ECONOMIC ANALYTICS II/Project Code file/IMDb_movie_review_sentiment_analysis/final_with_days_since_release.csv', index=False)"
   ]
  },
  {
   "cell_type": "markdown",
   "metadata": {},
   "source": [
    "# Creating Predicted Rating column\n",
    "-----"
   ]
  },
  {
   "cell_type": "code",
   "execution_count": 19,
   "metadata": {},
   "outputs": [],
   "source": [
    "import pandas as pd\n",
    "all_final_reviews_df = pd.read_csv('/Users/shreyashgupta/Library/CloudStorage/OneDrive-UniversityofArkansas/MSEA/2nd Semester - MSEA/ECON 5823 - ECONOMIC ANALYTICS II/Project Code file/IMDb_movie_review_sentiment_analysis/final_with_days_since_release.csv')\n",
    "# load final_with_days_since_release as all_final_reviews_df from the location '/Users/shreyashgupta/Library/CloudStorage/OneDrive-UniversityofArkansas/MSEA/2nd Semester - MSEA/ECON 5823 - ECONOMIC ANALYTICS II/Project Code file/IMDb_movie_review_sentiment_analysis/final_with_days_since_release.csv'"
   ]
  },
  {
   "cell_type": "code",
   "execution_count": 20,
   "metadata": {},
   "outputs": [],
   "source": [
    "# all_final_sample = all_final_reviews_df.head(2)\n",
    "\n",
    "# #export all_final_sample to a csv file in the location '/Users/shreyashgupta/Library/CloudStorage/OneDrive-UniversityofArkansas/MSEA/2nd Semester - MSEA/ECON 5823 - ECONOMIC ANALYTICS II/Project Code file/IMDb_movie_review_sentiment_analysis/all_final_sample.csv'\n",
    "# all_final_sample.to_csv('/Users/shreyashgupta/Library/CloudStorage/OneDrive-UniversityofArkansas/MSEA/2nd Semester - MSEA/ECON 5823 - ECONOMIC ANALYTICS II/Project Code file/IMDb_movie_review_sentiment_analysis/sssample.csv', index=False)"
   ]
  },
  {
   "cell_type": "code",
   "execution_count": 21,
   "metadata": {},
   "outputs": [
    {
     "data": {
      "text/html": [
       "<div>\n",
       "<style scoped>\n",
       "    .dataframe tbody tr th:only-of-type {\n",
       "        vertical-align: middle;\n",
       "    }\n",
       "\n",
       "    .dataframe tbody tr th {\n",
       "        vertical-align: top;\n",
       "    }\n",
       "\n",
       "    .dataframe thead th {\n",
       "        text-align: right;\n",
       "    }\n",
       "</style>\n",
       "<table border=\"1\" class=\"dataframe\">\n",
       "  <thead>\n",
       "    <tr style=\"text-align: right;\">\n",
       "      <th></th>\n",
       "      <th>Review Date</th>\n",
       "      <th>Review Title</th>\n",
       "      <th>Username</th>\n",
       "      <th>Helpful Votes</th>\n",
       "      <th>Total Votes</th>\n",
       "      <th>Individual Rating</th>\n",
       "      <th>Review Text</th>\n",
       "      <th>Spoiler Warning</th>\n",
       "      <th>Movie Name</th>\n",
       "      <th>Genre</th>\n",
       "      <th>...</th>\n",
       "      <th>Genre_Romance</th>\n",
       "      <th>Genre_Sci-Fi</th>\n",
       "      <th>Genre_Sport</th>\n",
       "      <th>Genre_Thriller</th>\n",
       "      <th>Genre_War</th>\n",
       "      <th>Genre_Western</th>\n",
       "      <th>Sentiment_score__Review_title</th>\n",
       "      <th>Sentiment_score__Review_text</th>\n",
       "      <th>Release_date_actual</th>\n",
       "      <th>Days_since_release</th>\n",
       "    </tr>\n",
       "  </thead>\n",
       "  <tbody>\n",
       "    <tr>\n",
       "      <th>0</th>\n",
       "      <td>2023-02-15</td>\n",
       "      <td>I Don't Understand The Negative Reviews</td>\n",
       "      <td>varun-25071997</td>\n",
       "      <td>104</td>\n",
       "      <td>119</td>\n",
       "      <td>9</td>\n",
       "      <td>I don't know much about depression but I do kn...</td>\n",
       "      <td>0</td>\n",
       "      <td>The Son</td>\n",
       "      <td>Drama</td>\n",
       "      <td>...</td>\n",
       "      <td>0</td>\n",
       "      <td>0</td>\n",
       "      <td>0</td>\n",
       "      <td>0</td>\n",
       "      <td>0</td>\n",
       "      <td>0</td>\n",
       "      <td>0.4585</td>\n",
       "      <td>-0.6966</td>\n",
       "      <td>2022-09-13</td>\n",
       "      <td>155</td>\n",
       "    </tr>\n",
       "    <tr>\n",
       "      <th>1</th>\n",
       "      <td>2023-02-16</td>\n",
       "      <td>A teenager's psychological trauma and the cons...</td>\n",
       "      <td>madanmarwah</td>\n",
       "      <td>51</td>\n",
       "      <td>59</td>\n",
       "      <td>7</td>\n",
       "      <td>Just a bit of research into the works of write...</td>\n",
       "      <td>0</td>\n",
       "      <td>The Son</td>\n",
       "      <td>Drama</td>\n",
       "      <td>...</td>\n",
       "      <td>0</td>\n",
       "      <td>0</td>\n",
       "      <td>0</td>\n",
       "      <td>0</td>\n",
       "      <td>0</td>\n",
       "      <td>0</td>\n",
       "      <td>-0.4215</td>\n",
       "      <td>-0.9495</td>\n",
       "      <td>2022-09-13</td>\n",
       "      <td>156</td>\n",
       "    </tr>\n",
       "  </tbody>\n",
       "</table>\n",
       "<p>2 rows × 233 columns</p>\n",
       "</div>"
      ],
      "text/plain": [
       "  Review Date                                       Review Title  \\\n",
       "0  2023-02-15            I Don't Understand The Negative Reviews   \n",
       "1  2023-02-16  A teenager's psychological trauma and the cons...   \n",
       "\n",
       "         Username  Helpful Votes  Total Votes  Individual Rating  \\\n",
       "0  varun-25071997            104          119                  9   \n",
       "1     madanmarwah             51           59                  7   \n",
       "\n",
       "                                         Review Text  Spoiler Warning  \\\n",
       "0  I don't know much about depression but I do kn...                0   \n",
       "1  Just a bit of research into the works of write...                0   \n",
       "\n",
       "  Movie Name  Genre  ...  Genre_Romance  Genre_Sci-Fi  Genre_Sport  \\\n",
       "0    The Son  Drama  ...              0             0            0   \n",
       "1    The Son  Drama  ...              0             0            0   \n",
       "\n",
       "   Genre_Thriller  Genre_War  Genre_Western  Sentiment_score__Review_title  \\\n",
       "0               0          0              0                         0.4585   \n",
       "1               0          0              0                        -0.4215   \n",
       "\n",
       "   Sentiment_score__Review_text  Release_date_actual  Days_since_release  \n",
       "0                       -0.6966           2022-09-13                 155  \n",
       "1                       -0.9495           2022-09-13                 156  \n",
       "\n",
       "[2 rows x 233 columns]"
      ]
     },
     "execution_count": 21,
     "metadata": {},
     "output_type": "execute_result"
    }
   ],
   "source": [
    "all_final_reviews_df.head(2)"
   ]
  },
  {
   "cell_type": "code",
   "execution_count": 22,
   "metadata": {},
   "outputs": [
    {
     "data": {
      "text/plain": [
       "(852981, 233)"
      ]
     },
     "execution_count": 22,
     "metadata": {},
     "output_type": "execute_result"
    }
   ],
   "source": [
    "all_final_reviews_df.shape"
   ]
  },
  {
   "cell_type": "code",
   "execution_count": null,
   "metadata": {},
   "outputs": [],
   "source": [
    "import pandas as pd\n",
    "import numpy as np\n",
    "from sklearn.preprocessing import StandardScaler\n",
    "from xgboost import XGBRegressor\n",
    "from sklearn.preprocessing import StandardScaler\n",
    "from sklearn.model_selection import GridSearchCV  # Ensure this import is included\n",
    "\n",
    "\n",
    "# Assuming all_final_reviews_df is your DataFrame\n",
    "# Convert dates to numerical format\n",
    "all_final_reviews_df['Release_date_actual'] = pd.to_datetime(all_final_reviews_df['Release_date_actual']).astype(int)\n",
    "all_final_reviews_df['Review Date'] = pd.to_datetime(all_final_reviews_df['Review Date']).astype(int)\n",
    "\n",
    "# Separate features and target variable\n",
    "X = all_final_reviews_df.drop(columns=['Review Title', 'Username', 'Review Text', 'Movie Name', 'Genre', 'Rating', 'Release Date', 'Review Date', 'Individual Rating'])\n",
    "y = all_final_reviews_df['Individual Rating']\n",
    "\n",
    "# Initialize the scaler\n",
    "scaler = StandardScaler()\n",
    "\n",
    "# Scale the features\n",
    "X_scaled = scaler.fit_transform(X)\n",
    "\n",
    "# Convert scaled arrays back to DataFrame to maintain indices\n",
    "X_scaled_df = pd.DataFrame(X_scaled, index=X.index, columns=X.columns)\n",
    "\n",
    "# XGBoost Model with GridSearchCV\n",
    "xgb = XGBRegressor(objective='reg:squarederror')\n",
    "parameters = {\n",
    "    'n_estimators': [100, 200, 300, 400, 500, 600],\n",
    "    'max_depth': [3, 5, 7, 9, 11, 13],\n",
    "    'learning_rate': [0.01, 0.1, 0.2, 0.3, 0.4],\n",
    "}\n",
    "\n",
    "grid_search = GridSearchCV(estimator=xgb, param_grid=parameters, cv=3, scoring='neg_mean_squared_error', verbose=1, n_jobs=-1)\n",
    "grid_search.fit(X_scaled_df, y)\n",
    "\n",
    "# Best parameters and best score\n",
    "print(\"Best parameters found: \", grid_search.best_params_)\n",
    "print(\"Best score found: \", np.sqrt(-grid_search.best_score_))\n",
    "\n",
    "# Predict using the best model\n",
    "y_pred_xgb = grid_search.predict(X_scaled_df)\n",
    "\n",
    "# Add the XGBoost predictions back to the dataframe\n",
    "all_final_reviews_df['XGB Predicted Rating'] = y_pred_xgb\n",
    "\n",
    "# Display the updated dataframe\n",
    "print(all_final_reviews_df.head())"
   ]
  },
  {
   "cell_type": "code",
   "execution_count": null,
   "metadata": {},
   "outputs": [],
   "source": [
    "import pandas as pd\n",
    "import numpy as np\n",
    "from sklearn.preprocessing import StandardScaler\n",
    "from xgboost import XGBRegressor\n",
    "\n",
    "# Load your data\n",
    "# Assuming you have loaded your DataFrame from 'sssample.csv' into 'all_final_reviews_df'\n",
    "\n",
    "# Convert dates to numerical format and separate features and target\n",
    "all_final_reviews_df['Release_date_actual'] = pd.to_datetime(all_final_reviews_df['Release_date_actual']).astype(int)\n",
    "all_final_reviews_df['Review Date'] = pd.to_datetime(all_final_reviews_df['Review Date']).astype(int)\n",
    "\n",
    "X = all_final_reviews_df.drop(columns=['Review Title', 'Username', 'Review Text', 'Movie Name', 'Genre', 'Rating', 'Release Date', 'Review Date', 'Individual Rating'])\n",
    "y = all_final_reviews_df['Individual Rating']\n",
    "\n",
    "# Scale the features\n",
    "scaler = StandardScaler()\n",
    "X_scaled = scaler.fit_transform(X)\n",
    "\n",
    "# Initialize the XGBoost regressor with the best parameters\n",
    "xgb_model = XGBRegressor(learning_rate=0.2, max_depth=7, n_estimators=300, objective='reg:squarederror')\n",
    "\n",
    "# Train the model on the entire dataset\n",
    "xgb_model.fit(X_scaled, y)\n",
    "\n",
    "# Predict the ratings for the entire dataset\n",
    "y_pred = xgb_model.predict(X_scaled)\n",
    "\n",
    "# Clip the predictions to ensure they are within the range 0-10\n",
    "y_pred_clipped = np.clip(y_pred, 0, 10)\n",
    "\n",
    "# Add the clipped XGBoost predictions back to the dataframe\n",
    "all_final_reviews_df['XGB Predicted Rating'] = y_pred_clipped\n",
    "\n",
    "# Display the updated dataframe\n",
    "print(all_final_reviews_df[['Individual Rating', 'XGB Predicted Rating']].head())"
   ]
  },
  {
   "cell_type": "code",
   "execution_count": 25,
   "metadata": {},
   "outputs": [
    {
     "data": {
      "text/plain": [
       "Index(['Review Date', 'Review Title', 'Username', 'Helpful Votes',\n",
       "       'Total Votes', 'Individual Rating', 'Review Text', 'Spoiler Warning',\n",
       "       'Movie Name', 'Genre',\n",
       "       ...\n",
       "       'Genre_Sci-Fi', 'Genre_Sport', 'Genre_Thriller', 'Genre_War',\n",
       "       'Genre_Western', 'Sentiment_score__Review_title',\n",
       "       'Sentiment_score__Review_text', 'Release_date_actual',\n",
       "       'Days_since_release', 'XGB Predicted Rating'],\n",
       "      dtype='object', length=234)"
      ]
     },
     "execution_count": 25,
     "metadata": {},
     "output_type": "execute_result"
    }
   ],
   "source": [
    "all_final_reviews_df.columns"
   ]
  },
  {
   "cell_type": "code",
   "execution_count": 26,
   "metadata": {},
   "outputs": [],
   "source": [
    "# export all_final_reviews_df to a csv file in the location '/Users/shreyashgupta/Library/CloudStorage/OneDrive-UniversityofArkansas/MSEA/2nd Semester - MSEA/ECON 5823 - ECONOMIC ANALYTICS II/Project Code file/IMDb_movie_review_sentiment_analysis/final_with_predicted_rating.csv'\n",
    "all_final_reviews_df.to_csv('/Users/shreyashgupta/Library/CloudStorage/OneDrive-UniversityofArkansas/MSEA/2nd Semester - MSEA/ECON 5823 - ECONOMIC ANALYTICS II/Project Code file/IMDb_movie_review_sentiment_analysis/final_with_predicted_rating.csv', index=False)"
   ]
  },
  {
   "cell_type": "markdown",
   "metadata": {},
   "source": [
    "# Calculating Difference in Actual and Predicted Rating\n",
    "-----"
   ]
  },
  {
   "cell_type": "code",
   "execution_count": 27,
   "metadata": {},
   "outputs": [],
   "source": [
    "# Calculating rating difference\n",
    "\n",
    "all_final_reviews_df['Rating_difference'] = all_final_reviews_df['Individual Rating'] - all_final_reviews_df['XGB Predicted Rating']"
   ]
  },
  {
   "cell_type": "markdown",
   "metadata": {},
   "source": [
    "# Regression\n",
    "----"
   ]
  },
  {
   "cell_type": "code",
   "execution_count": null,
   "metadata": {},
   "outputs": [],
   "source": []
  }
 ],
 "metadata": {
  "kernelspec": {
   "display_name": "Python 3",
   "language": "python",
   "name": "python3"
  },
  "language_info": {
   "codemirror_mode": {
    "name": "ipython",
    "version": 3
   },
   "file_extension": ".py",
   "mimetype": "text/x-python",
   "name": "python",
   "nbconvert_exporter": "python",
   "pygments_lexer": "ipython3",
   "version": "3.9.13"
  }
 },
 "nbformat": 4,
 "nbformat_minor": 2
}
