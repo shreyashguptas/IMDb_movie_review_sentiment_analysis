{
 "cells": [
  {
   "cell_type": "code",
   "execution_count": 14,
   "metadata": {},
   "outputs": [
    {
     "name": "stdout",
     "output_type": "stream",
     "text": [
      "No new reviews loaded; trying again.\n",
      "No new reviews loaded; trying again.\n",
      "No new reviews loaded; trying again.\n",
      "No new reviews loaded; trying again.\n",
      "No new reviews loaded; trying again.\n",
      "Total reviews scraped: 200\n"
     ]
    }
   ],
   "source": [
    "from selenium import webdriver\n",
    "from selenium.webdriver.common.by import By\n",
    "from selenium.webdriver.support.ui import WebDriverWait\n",
    "from selenium.webdriver.support import expected_conditions as EC\n",
    "from bs4 import BeautifulSoup\n",
    "import pandas as pd\n",
    "import time\n",
    "\n",
    "# Initialize WebDriver\n",
    "options = webdriver.ChromeOptions()\n",
    "options.add_argument(\"--start-maximized\")  # Start browser maximized to avoid hidden elements\n",
    "driver = webdriver.Chrome(options=options)\n",
    "wait = WebDriverWait(driver, 20)\n",
    "\n",
    "# Navigate to the IMDb reviews page\n",
    "driver.get(\"https://www.imdb.com/title/tt0111161/reviews\")\n",
    "\n",
    "reviews = []\n",
    "prev_reviews_count = 0\n",
    "\n",
    "try:\n",
    "    while len(reviews) < 200:\n",
    "        # Wait for the reviews to load and then scroll into view of the Load More button\n",
    "        wait.until(EC.visibility_of_all_elements_located((By.CSS_SELECTOR, \"div.review-container\")))\n",
    "        driver.execute_script(\"window.scrollTo(0, document.body.scrollHeight);\")\n",
    "        time.sleep(2)  # Sleep to ensure reviews have loaded\n",
    "\n",
    "        # Extract reviews\n",
    "        soup = BeautifulSoup(driver.page_source, 'html.parser')\n",
    "        new_reviews = [review.text.strip() for review in soup.select(\"div.review-container .text.show-more__control\")]\n",
    "\n",
    "        # Check if new reviews have been loaded\n",
    "        if len(new_reviews) > prev_reviews_count:\n",
    "            # Avoid adding duplicates by extending by the new reviews only\n",
    "            reviews.extend(new_reviews[prev_reviews_count:])\n",
    "            prev_reviews_count = len(new_reviews)\n",
    "        else:\n",
    "            print(\"No new reviews loaded; trying again.\")\n",
    "            continue\n",
    "        \n",
    "        # Click the \"Load More\" button, if there are less than 200 reviews\n",
    "        if len(reviews) < 200:\n",
    "            load_more_button = wait.until(EC.element_to_be_clickable((By.ID, \"load-more-trigger\")))\n",
    "            driver.execute_script(\"arguments[0].click();\", load_more_button)\n",
    "\n",
    "except Exception as e:\n",
    "    print(f\"Error occurred: {e}\")\n",
    "\n",
    "finally:\n",
    "    # Truncate the list to 200 reviews if it exceeds that number\n",
    "    reviews = reviews[:200]\n",
    "    # Convert to DataFrame\n",
    "    reviews_df = pd.DataFrame(reviews, columns=['Review'])\n",
    "    print(f\"Total reviews scraped: {len(reviews_df)}\")\n",
    "\n",
    "    # Save to CSV if needed\n",
    "    reviews_df.to_csv(\"imdb_reviews_scraped.csv\", index=False)\n",
    "    driver.quit()"
   ]
  }
 ],
 "metadata": {
  "kernelspec": {
   "display_name": "Python 3",
   "language": "python",
   "name": "python3"
  },
  "language_info": {
   "codemirror_mode": {
    "name": "ipython",
    "version": 3
   },
   "file_extension": ".py",
   "mimetype": "text/x-python",
   "name": "python",
   "nbconvert_exporter": "python",
   "pygments_lexer": "ipython3",
   "version": "3.12.0"
  }
 },
 "nbformat": 4,
 "nbformat_minor": 2
}
